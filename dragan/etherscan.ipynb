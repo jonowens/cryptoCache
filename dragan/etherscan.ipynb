{
 "metadata": {
  "language_info": {
   "codemirror_mode": {
    "name": "ipython",
    "version": 3
   },
   "file_extension": ".py",
   "mimetype": "text/x-python",
   "name": "python",
   "nbconvert_exporter": "python",
   "pygments_lexer": "ipython3",
   "version": "3.7.9-final"
  },
  "orig_nbformat": 2,
  "kernelspec": {
   "name": "python3",
   "display_name": "Python 3",
   "language": "python"
  }
 },
 "nbformat": 4,
 "nbformat_minor": 2,
 "cells": [
  {
   "cell_type": "code",
   "execution_count": 101,
   "metadata": {},
   "outputs": [],
   "source": [
    "# import dependencies\n",
    "\n",
    "import requests\n",
    "import os\n",
    "from dotenv import load_dotenv\n",
    "from web3 import Web3, HTTPProvider\n",
    "import pandas as pd\n",
    "from pprint import pprint\n",
    "import json\n",
    "import pandas as pd"
   ]
  },
  {
   "cell_type": "code",
   "execution_count": 102,
   "metadata": {},
   "outputs": [
    {
     "output_type": "execute_result",
     "data": {
      "text/plain": [
       "True"
      ]
     },
     "metadata": {},
     "execution_count": 102
    }
   ],
   "source": [
    "load_dotenv()"
   ]
  },
  {
   "cell_type": "code",
   "execution_count": 103,
   "metadata": {},
   "outputs": [
    {
     "output_type": "execute_result",
     "data": {
      "text/plain": [
       "<web3.main.Web3 at 0x7fe20dcbc750>"
      ]
     },
     "metadata": {},
     "execution_count": 103
    }
   ],
   "source": [
    " # establish the link to Kovan network through Infura API\n",
    " \n",
    " w3 = Web3(Web3.HTTPProvider(\"https://kovan.infura.io/v3/ca2cec39980a4c11810d6859b9f41273\"))\n",
    "\n",
    " w3"
   ]
  },
  {
   "cell_type": "code",
   "execution_count": 104,
   "metadata": {},
   "outputs": [
    {
     "output_type": "execute_result",
     "data": {
      "text/plain": [
       "True"
      ]
     },
     "metadata": {},
     "execution_count": 104
    }
   ],
   "source": [
    "# check the connection to Web3\n",
    "\n",
    "w3.isConnected()"
   ]
  },
  {
   "cell_type": "code",
   "execution_count": 87,
   "metadata": {
    "tags": []
   },
   "outputs": [
    {
     "output_type": "stream",
     "name": "stdout",
     "text": [
      "[{'inputs': [], 'payable': False, 'stateMutability': 'nonpayable', 'type': 'constructor'}, {'anonymous': False, 'inputs': [{'indexed': True, 'internalType': 'address', 'name': 'owner', 'type': 'address'}, {'indexed': True, 'internalType': 'address', 'name': 'approved', 'type': 'address'}, {'indexed': True, 'internalType': 'uint256', 'name': 'tokenId', 'type': 'uint256'}], 'name': 'Approval', 'type': 'event'}, {'anonymous': False, 'inputs': [{'indexed': True, 'internalType': 'address', 'name': 'owner', 'type': 'address'}, {'indexed': True, 'internalType': 'address', 'name': 'operator', 'type': 'address'}, {'indexed': False, 'internalType': 'bool', 'name': 'approved', 'type': 'bool'}], 'name': 'ApprovalForAll', 'type': 'event'}, {'anonymous': False, 'inputs': [{'indexed': True, 'internalType': 'address', 'name': 'from', 'type': 'address'}, {'indexed': True, 'internalType': 'address', 'name': 'to', 'type': 'address'}, {'indexed': True, 'internalType': 'uint256', 'name': 'tokenId', 'type': 'uint256'}], 'name': 'Transfer', 'type': 'event'}, {'anonymous': False, 'inputs': [{'indexed': False, 'internalType': 'uint256', 'name': 'tokenId', 'type': 'uint256'}], 'name': 'tokenOrder', 'type': 'event'}, {'payable': True, 'stateMutability': 'payable', 'type': 'fallback'}, {'constant': False, 'inputs': [{'internalType': 'address', 'name': 'to', 'type': 'address'}, {'internalType': 'uint256', 'name': 'tokenId', 'type': 'uint256'}], 'name': 'approve', 'outputs': [], 'payable': False, 'stateMutability': 'nonpayable', 'type': 'function'}, {'constant': True, 'inputs': [{'internalType': 'address', 'name': 'owner', 'type': 'address'}], 'name': 'balanceOf', 'outputs': [{'internalType': 'uint256', 'name': '', 'type': 'uint256'}], 'payable': False, 'stateMutability': 'view', 'type': 'function'}, {'constant': True, 'inputs': [], 'name': 'baseURI', 'outputs': [{'internalType': 'string', 'name': '', 'type': 'string'}], 'payable': False, 'stateMutability': 'view', 'type': 'function'}, {'constant': True, 'inputs': [{'internalType': 'uint256', 'name': '', 'type': 'uint256'}], 'name': 'colorToken', 'outputs': [{'internalType': 'address', 'name': 'buyer', 'type': 'address'}, {'internalType': 'string', 'name': 'country', 'type': 'string'}, {'internalType': 'string', 'name': 'state', 'type': 'string'}, {'internalType': 'string', 'name': 'city', 'type': 'string'}, {'internalType': 'string', 'name': 'streetAddress', 'type': 'string'}, {'internalType': 'uint256', 'name': 'zipCode', 'type': 'uint256'}], 'payable': False, 'stateMutability': 'view', 'type': 'function'}, {'constant': True, 'inputs': [{'internalType': 'uint256', 'name': 'tokenId', 'type': 'uint256'}], 'name': 'getApproved', 'outputs': [{'internalType': 'address', 'name': '', 'type': 'address'}], 'payable': False, 'stateMutability': 'view', 'type': 'function'}, {'constant': True, 'inputs': [{'internalType': 'address', 'name': 'owner', 'type': 'address'}, {'internalType': 'address', 'name': 'operator', 'type': 'address'}], 'name': 'isApprovedForAll', 'outputs': [{'internalType': 'bool', 'name': '', 'type': 'bool'}], 'payable': False, 'stateMutability': 'view', 'type': 'function'}, {'constant': True, 'inputs': [], 'name': 'name', 'outputs': [{'internalType': 'string', 'name': '', 'type': 'string'}], 'payable': False, 'stateMutability': 'view', 'type': 'function'}, {'constant': False, 'inputs': [{'internalType': 'address', 'name': 'buyer', 'type': 'address'}, {'internalType': 'string', 'name': 'country', 'type': 'string'}, {'internalType': 'string', 'name': 'state', 'type': 'string'}, {'internalType': 'string', 'name': 'city', 'type': 'string'}, {'internalType': 'string', 'name': 'streetAddress', 'type': 'string'}, {'internalType': 'uint256', 'name': 'zipCode', 'type': 'uint256'}], 'name': 'orderPrint', 'outputs': [{'internalType': 'uint256', 'name': '', 'type': 'uint256'}], 'payable': True, 'stateMutability': 'payable', 'type': 'function'}, {'constant': True, 'inputs': [{'internalType': 'uint256', 'name': 'tokenId', 'type': 'uint256'}], 'name': 'ownerOf', 'outputs': [{'internalType': 'address', 'name': '', 'type': 'address'}], 'payable': False, 'stateMutability': 'view', 'type': 'function'}, {'constant': False, 'inputs': [{'internalType': 'address', 'name': 'from', 'type': 'address'}, {'internalType': 'address', 'name': 'to', 'type': 'address'}, {'internalType': 'uint256', 'name': 'tokenId', 'type': 'uint256'}], 'name': 'safeTransferFrom', 'outputs': [], 'payable': False, 'stateMutability': 'nonpayable', 'type': 'function'}, {'constant': False, 'inputs': [{'internalType': 'address', 'name': 'from', 'type': 'address'}, {'internalType': 'address', 'name': 'to', 'type': 'address'}, {'internalType': 'uint256', 'name': 'tokenId', 'type': 'uint256'}, {'internalType': 'bytes', 'name': '_data', 'type': 'bytes'}], 'name': 'safeTransferFrom', 'outputs': [], 'payable': False, 'stateMutability': 'nonpayable', 'type': 'function'}, {'constant': False, 'inputs': [{'internalType': 'address', 'name': 'to', 'type': 'address'}, {'internalType': 'bool', 'name': 'approved', 'type': 'bool'}], 'name': 'setApprovalForAll', 'outputs': [], 'payable': False, 'stateMutability': 'nonpayable', 'type': 'function'}, {'constant': True, 'inputs': [{'internalType': 'bytes4', 'name': 'interfaceId', 'type': 'bytes4'}], 'name': 'supportsInterface', 'outputs': [{'internalType': 'bool', 'name': '', 'type': 'bool'}], 'payable': False, 'stateMutability': 'view', 'type': 'function'}, {'constant': True, 'inputs': [], 'name': 'symbol', 'outputs': [{'internalType': 'string', 'name': '', 'type': 'string'}], 'payable': False, 'stateMutability': 'view', 'type': 'function'}, {'constant': True, 'inputs': [{'internalType': 'uint256', 'name': 'index', 'type': 'uint256'}], 'name': 'tokenByIndex', 'outputs': [{'internalType': 'uint256', 'name': '', 'type': 'uint256'}], 'payable': False, 'stateMutability': 'view', 'type': 'function'}, {'constant': True, 'inputs': [{'internalType': 'address', 'name': 'owner', 'type': 'address'}, {'internalType': 'uint256', 'name': 'index', 'type': 'uint256'}], 'name': 'tokenOfOwnerByIndex', 'outputs': [{'internalType': 'uint256', 'name': '', 'type': 'uint256'}], 'payable': False, 'stateMutability': 'view', 'type': 'function'}, {'constant': True, 'inputs': [{'internalType': 'uint256', 'name': 'tokenId', 'type': 'uint256'}], 'name': 'tokenURI', 'outputs': [{'internalType': 'string', 'name': '', 'type': 'string'}], 'payable': False, 'stateMutability': 'view', 'type': 'function'}, {'constant': True, 'inputs': [], 'name': 'totalSupply', 'outputs': [{'internalType': 'uint256', 'name': '', 'type': 'uint256'}], 'payable': False, 'stateMutability': 'view', 'type': 'function'}, {'constant': False, 'inputs': [{'internalType': 'address', 'name': 'from', 'type': 'address'}, {'internalType': 'address', 'name': 'to', 'type': 'address'}, {'internalType': 'uint256', 'name': 'tokenId', 'type': 'uint256'}], 'name': 'transferFrom', 'outputs': [], 'payable': False, 'stateMutability': 'nonpayable', 'type': 'function'}, {'constant': False, 'inputs': [{'internalType': 'uint256', 'name': 'amount', 'type': 'uint256'}, {'internalType': 'address payable', 'name': 'recipient', 'type': 'address'}], 'name': 'withdraw', 'outputs': [], 'payable': False, 'stateMutability': 'nonpayable', 'type': 'function'}]\n"
     ]
    }
   ],
   "source": [
    "# creates contract ABI file from BlueCoin contract json\n",
    "\n",
    "with open(\"./BlueCoin.json\") as f:\n",
    "    info_json = json.load(f)\n",
    "abi = info_json[\"abi\"]\n",
    "\n",
    "print(abi)"
   ]
  },
  {
   "cell_type": "code",
   "execution_count": 105,
   "metadata": {},
   "outputs": [
    {
     "output_type": "execute_result",
     "data": {
      "text/plain": [
       "'0x2E9974EC97D17181aFEE5e1e3F3CfD3237C7a079'"
      ]
     },
     "metadata": {},
     "execution_count": 105
    }
   ],
   "source": [
    "# returns token contract address\n",
    "\n",
    "blue_contract_address = '0x2E9974EC97D17181aFEE5e1e3F3CfD3237C7a079'\n",
    "blue_contract = w3.eth.contract(blue_contract_address, abi=abi)\n",
    "blue_contract.address"
   ]
  },
  {
   "cell_type": "code",
   "execution_count": 89,
   "metadata": {},
   "outputs": [
    {
     "output_type": "stream",
     "name": "stdout",
     "text": [
      "[{'inputs': [], 'payable': False, 'stateMutability': 'nonpayable', 'type': 'constructor'}, {'anonymous': False, 'inputs': [{'indexed': True, 'internalType': 'address', 'name': 'owner', 'type': 'address'}, {'indexed': True, 'internalType': 'address', 'name': 'approved', 'type': 'address'}, {'indexed': True, 'internalType': 'uint256', 'name': 'tokenId', 'type': 'uint256'}], 'name': 'Approval', 'type': 'event'}, {'anonymous': False, 'inputs': [{'indexed': True, 'internalType': 'address', 'name': 'owner', 'type': 'address'}, {'indexed': True, 'internalType': 'address', 'name': 'operator', 'type': 'address'}, {'indexed': False, 'internalType': 'bool', 'name': 'approved', 'type': 'bool'}], 'name': 'ApprovalForAll', 'type': 'event'}, {'anonymous': False, 'inputs': [{'indexed': True, 'internalType': 'address', 'name': 'from', 'type': 'address'}, {'indexed': True, 'internalType': 'address', 'name': 'to', 'type': 'address'}, {'indexed': True, 'internalType': 'uint256', 'name': 'tokenId', 'type': 'uint256'}], 'name': 'Transfer', 'type': 'event'}, {'anonymous': False, 'inputs': [{'indexed': False, 'internalType': 'uint256', 'name': 'tokenId', 'type': 'uint256'}], 'name': 'tokenOrder', 'type': 'event'}, {'payable': True, 'stateMutability': 'payable', 'type': 'fallback'}, {'constant': False, 'inputs': [{'internalType': 'address', 'name': 'to', 'type': 'address'}, {'internalType': 'uint256', 'name': 'tokenId', 'type': 'uint256'}], 'name': 'approve', 'outputs': [], 'payable': False, 'stateMutability': 'nonpayable', 'type': 'function'}, {'constant': True, 'inputs': [{'internalType': 'address', 'name': 'owner', 'type': 'address'}], 'name': 'balanceOf', 'outputs': [{'internalType': 'uint256', 'name': '', 'type': 'uint256'}], 'payable': False, 'stateMutability': 'view', 'type': 'function'}, {'constant': True, 'inputs': [], 'name': 'baseURI', 'outputs': [{'internalType': 'string', 'name': '', 'type': 'string'}], 'payable': False, 'stateMutability': 'view', 'type': 'function'}, {'constant': True, 'inputs': [{'internalType': 'uint256', 'name': '', 'type': 'uint256'}], 'name': 'colorToken', 'outputs': [{'internalType': 'address', 'name': 'buyer', 'type': 'address'}, {'internalType': 'string', 'name': 'country', 'type': 'string'}, {'internalType': 'string', 'name': 'state', 'type': 'string'}, {'internalType': 'string', 'name': 'city', 'type': 'string'}, {'internalType': 'string', 'name': 'streetAddress', 'type': 'string'}, {'internalType': 'uint256', 'name': 'zipCode', 'type': 'uint256'}], 'payable': False, 'stateMutability': 'view', 'type': 'function'}, {'constant': True, 'inputs': [{'internalType': 'uint256', 'name': 'tokenId', 'type': 'uint256'}], 'name': 'getApproved', 'outputs': [{'internalType': 'address', 'name': '', 'type': 'address'}], 'payable': False, 'stateMutability': 'view', 'type': 'function'}, {'constant': True, 'inputs': [{'internalType': 'address', 'name': 'owner', 'type': 'address'}, {'internalType': 'address', 'name': 'operator', 'type': 'address'}], 'name': 'isApprovedForAll', 'outputs': [{'internalType': 'bool', 'name': '', 'type': 'bool'}], 'payable': False, 'stateMutability': 'view', 'type': 'function'}, {'constant': True, 'inputs': [], 'name': 'name', 'outputs': [{'internalType': 'string', 'name': '', 'type': 'string'}], 'payable': False, 'stateMutability': 'view', 'type': 'function'}, {'constant': False, 'inputs': [{'internalType': 'address', 'name': 'buyer', 'type': 'address'}, {'internalType': 'string', 'name': 'country', 'type': 'string'}, {'internalType': 'string', 'name': 'state', 'type': 'string'}, {'internalType': 'string', 'name': 'city', 'type': 'string'}, {'internalType': 'string', 'name': 'streetAddress', 'type': 'string'}, {'internalType': 'uint256', 'name': 'zipCode', 'type': 'uint256'}], 'name': 'orderPrint', 'outputs': [{'internalType': 'uint256', 'name': '', 'type': 'uint256'}], 'payable': True, 'stateMutability': 'payable', 'type': 'function'}, {'constant': True, 'inputs': [{'internalType': 'uint256', 'name': 'tokenId', 'type': 'uint256'}], 'name': 'ownerOf', 'outputs': [{'internalType': 'address', 'name': '', 'type': 'address'}], 'payable': False, 'stateMutability': 'view', 'type': 'function'}, {'constant': False, 'inputs': [{'internalType': 'address', 'name': 'from', 'type': 'address'}, {'internalType': 'address', 'name': 'to', 'type': 'address'}, {'internalType': 'uint256', 'name': 'tokenId', 'type': 'uint256'}], 'name': 'safeTransferFrom', 'outputs': [], 'payable': False, 'stateMutability': 'nonpayable', 'type': 'function'}, {'constant': False, 'inputs': [{'internalType': 'address', 'name': 'from', 'type': 'address'}, {'internalType': 'address', 'name': 'to', 'type': 'address'}, {'internalType': 'uint256', 'name': 'tokenId', 'type': 'uint256'}, {'internalType': 'bytes', 'name': '_data', 'type': 'bytes'}], 'name': 'safeTransferFrom', 'outputs': [], 'payable': False, 'stateMutability': 'nonpayable', 'type': 'function'}, {'constant': False, 'inputs': [{'internalType': 'address', 'name': 'to', 'type': 'address'}, {'internalType': 'bool', 'name': 'approved', 'type': 'bool'}], 'name': 'setApprovalForAll', 'outputs': [], 'payable': False, 'stateMutability': 'nonpayable', 'type': 'function'}, {'constant': True, 'inputs': [{'internalType': 'bytes4', 'name': 'interfaceId', 'type': 'bytes4'}], 'name': 'supportsInterface', 'outputs': [{'internalType': 'bool', 'name': '', 'type': 'bool'}], 'payable': False, 'stateMutability': 'view', 'type': 'function'}, {'constant': True, 'inputs': [], 'name': 'symbol', 'outputs': [{'internalType': 'string', 'name': '', 'type': 'string'}], 'payable': False, 'stateMutability': 'view', 'type': 'function'}, {'constant': True, 'inputs': [{'internalType': 'uint256', 'name': 'index', 'type': 'uint256'}], 'name': 'tokenByIndex', 'outputs': [{'internalType': 'uint256', 'name': '', 'type': 'uint256'}], 'payable': False, 'stateMutability': 'view', 'type': 'function'}, {'constant': True, 'inputs': [{'internalType': 'address', 'name': 'owner', 'type': 'address'}, {'internalType': 'uint256', 'name': 'index', 'type': 'uint256'}], 'name': 'tokenOfOwnerByIndex', 'outputs': [{'internalType': 'uint256', 'name': '', 'type': 'uint256'}], 'payable': False, 'stateMutability': 'view', 'type': 'function'}, {'constant': True, 'inputs': [{'internalType': 'uint256', 'name': 'tokenId', 'type': 'uint256'}], 'name': 'tokenURI', 'outputs': [{'internalType': 'string', 'name': '', 'type': 'string'}], 'payable': False, 'stateMutability': 'view', 'type': 'function'}, {'constant': True, 'inputs': [], 'name': 'totalSupply', 'outputs': [{'internalType': 'uint256', 'name': '', 'type': 'uint256'}], 'payable': False, 'stateMutability': 'view', 'type': 'function'}, {'constant': False, 'inputs': [{'internalType': 'address', 'name': 'from', 'type': 'address'}, {'internalType': 'address', 'name': 'to', 'type': 'address'}, {'internalType': 'uint256', 'name': 'tokenId', 'type': 'uint256'}], 'name': 'transferFrom', 'outputs': [], 'payable': False, 'stateMutability': 'nonpayable', 'type': 'function'}, {'constant': False, 'inputs': [{'internalType': 'uint256', 'name': 'amount', 'type': 'uint256'}, {'internalType': 'address payable', 'name': 'recipient', 'type': 'address'}], 'name': 'withdraw', 'outputs': [], 'payable': False, 'stateMutability': 'nonpayable', 'type': 'function'}]\n"
     ]
    }
   ],
   "source": [
    "with open(\"./PinkCoin.json\") as f:\n",
    "    info_json = json.load(f)\n",
    "abi = info_json[\"abi\"]\n",
    "\n",
    "print(abi)"
   ]
  },
  {
   "cell_type": "code",
   "execution_count": 106,
   "metadata": {},
   "outputs": [
    {
     "output_type": "execute_result",
     "data": {
      "text/plain": [
       "'0x541b0A62B9Ff59370683EE40d22eaEB4eB231578'"
      ]
     },
     "metadata": {},
     "execution_count": 106
    }
   ],
   "source": [
    "# returns PinkCoin token contract address\n",
    "\n",
    "pink_contract_address = '0x541b0A62B9Ff59370683EE40d22eaEB4eB231578'\n",
    "pink_contract = w3.eth.contract(pink_contract_address, abi=abi)\n",
    "pink_contract.address"
   ]
  },
  {
   "cell_type": "code",
   "execution_count": 107,
   "metadata": {},
   "outputs": [
    {
     "output_type": "execute_result",
     "data": {
      "text/plain": [
       "[<Function approve(address,uint256)>,\n",
       " <Function balanceOf(address)>,\n",
       " <Function baseURI()>,\n",
       " <Function colorToken(uint256)>,\n",
       " <Function getApproved(uint256)>,\n",
       " <Function isApprovedForAll(address,address)>,\n",
       " <Function name()>,\n",
       " <Function orderPrint(address,string,string,string,string,uint256)>,\n",
       " <Function ownerOf(uint256)>,\n",
       " <Function safeTransferFrom(address,address,uint256)>,\n",
       " <Function safeTransferFrom(address,address,uint256,bytes)>,\n",
       " <Function setApprovalForAll(address,bool)>,\n",
       " <Function supportsInterface(bytes4)>,\n",
       " <Function symbol()>,\n",
       " <Function tokenByIndex(uint256)>,\n",
       " <Function tokenOfOwnerByIndex(address,uint256)>,\n",
       " <Function tokenURI(uint256)>,\n",
       " <Function totalSupply()>,\n",
       " <Function transferFrom(address,address,uint256)>,\n",
       " <Function withdraw(uint256,address)>]"
      ]
     },
     "metadata": {},
     "execution_count": 107
    }
   ],
   "source": [
    "# all callable public contract functions\n",
    "\n",
    "blue_contract.all_functions()"
   ]
  },
  {
   "cell_type": "code",
   "execution_count": 108,
   "metadata": {},
   "outputs": [
    {
     "output_type": "execute_result",
     "data": {
      "text/plain": [
       "'BlueToken'"
      ]
     },
     "metadata": {},
     "execution_count": 108
    }
   ],
   "source": [
    "# returns token name\n",
    "\n",
    "blue_contract.functions.name().call()"
   ]
  },
  {
   "cell_type": "code",
   "execution_count": 109,
   "metadata": {},
   "outputs": [
    {
     "output_type": "execute_result",
     "data": {
      "text/plain": [
       "'BLUET'"
      ]
     },
     "metadata": {},
     "execution_count": 109
    }
   ],
   "source": [
    "# returns token symbol\n",
    "\n",
    "blue_contract.functions.symbol().call()"
   ]
  },
  {
   "cell_type": "code",
   "execution_count": 110,
   "metadata": {},
   "outputs": [
    {
     "output_type": "execute_result",
     "data": {
      "text/plain": [
       "'PinkToken'"
      ]
     },
     "metadata": {},
     "execution_count": 110
    }
   ],
   "source": [
    "pink_contract.functions.name().call()"
   ]
  },
  {
   "cell_type": "code",
   "execution_count": 95,
   "metadata": {},
   "outputs": [
    {
     "output_type": "execute_result",
     "data": {
      "text/plain": [
       "'PINKT'"
      ]
     },
     "metadata": {},
     "execution_count": 95
    }
   ],
   "source": [
    "pink_contract.functions.symbol().call()"
   ]
  },
  {
   "cell_type": "code",
   "execution_count": 112,
   "metadata": {},
   "outputs": [
    {
     "output_type": "execute_result",
     "data": {
      "text/plain": [
       "10"
      ]
     },
     "metadata": {},
     "execution_count": 112
    }
   ],
   "source": [
    "# returns total number of issued tokens per contract\n",
    "\n",
    "blue_contract.functions.totalSupply().call()"
   ]
  },
  {
   "cell_type": "code",
   "execution_count": 113,
   "metadata": {},
   "outputs": [
    {
     "output_type": "execute_result",
     "data": {
      "text/plain": [
       "17"
      ]
     },
     "metadata": {},
     "execution_count": 113
    }
   ],
   "source": [
    "\n",
    "pink_contract.functions.totalSupply().call()"
   ]
  },
  {
   "cell_type": "code",
   "execution_count": 114,
   "metadata": {},
   "outputs": [
    {
     "output_type": "execute_result",
     "data": {
      "text/plain": [
       "['0xA31b61b2aea2d93a3d424523a612e518F5aCA407',\n",
       " 'us',\n",
       " 'tx',\n",
       " 'houston',\n",
       " '23434 smith st',\n",
       " 77070]"
      ]
     },
     "metadata": {},
     "execution_count": 114
    }
   ],
   "source": [
    "# returns order information per tokenId\n",
    "\n",
    "blue_order_data = blue_contract.functions.colorToken(1).call()\n",
    "blue_order_data"
   ]
  },
  {
   "cell_type": "code",
   "execution_count": 115,
   "metadata": {},
   "outputs": [
    {
     "output_type": "execute_result",
     "data": {
      "text/plain": [
       "['0xA31b61b2aea2d93a3d424523a612e518F5aCA407',\n",
       " 'us',\n",
       " 'tx',\n",
       " 'houston',\n",
       " '23423 smith st',\n",
       " 77070]"
      ]
     },
     "metadata": {},
     "execution_count": 115
    }
   ],
   "source": [
    "pink_order_data = pink_contract.functions.colorToken(1).call()\n",
    "pink_order_data"
   ]
  },
  {
   "cell_type": "code",
   "execution_count": 117,
   "metadata": {},
   "outputs": [
    {
     "output_type": "execute_result",
     "data": {
      "text/plain": [
       "[AttributeDict({'args': AttributeDict({'tokenId': 1}),\n",
       "  'event': 'tokenOrder',\n",
       "  'logIndex': 36,\n",
       "  'transactionIndex': 8,\n",
       "  'transactionHash': HexBytes('0xbb4e287c17a8705278f5b9017e8eee974d903e594b684a4c39eb772d01561581'),\n",
       "  'address': '0x2E9974EC97D17181aFEE5e1e3F3CfD3237C7a079',\n",
       "  'blockHash': HexBytes('0x4cea8d6b9420518779d8d4074c14908b603534e110510f0bced032eb523bc28b'),\n",
       "  'blockNumber': 23861384}),\n",
       " AttributeDict({'args': AttributeDict({'tokenId': 2}),\n",
       "  'event': 'tokenOrder',\n",
       "  'logIndex': 44,\n",
       "  'transactionIndex': 13,\n",
       "  'transactionHash': HexBytes('0x924f67bdfe935406610e5a5c7e76f77afed2ce160b4dee6cfbae130cc2b07b32'),\n",
       "  'address': '0x2E9974EC97D17181aFEE5e1e3F3CfD3237C7a079',\n",
       "  'blockHash': HexBytes('0xc9becd7790f05b712618e3ccab7f2fbab4fc0841636d682874047f146fbd4028'),\n",
       "  'blockNumber': 23861502}),\n",
       " AttributeDict({'args': AttributeDict({'tokenId': 3}),\n",
       "  'event': 'tokenOrder',\n",
       "  'logIndex': 33,\n",
       "  'transactionIndex': 12,\n",
       "  'transactionHash': HexBytes('0x4362b0bf85722a8839e7a9336d8f008a694edcca839eff5d47c1e2d50e68943f'),\n",
       "  'address': '0x2E9974EC97D17181aFEE5e1e3F3CfD3237C7a079',\n",
       "  'blockHash': HexBytes('0xb33be8116d1cfc90fdcb1444176db0cc9aaa23e08b4055a5d867f9e5ef15c209'),\n",
       "  'blockNumber': 23861603}),\n",
       " AttributeDict({'args': AttributeDict({'tokenId': 4}),\n",
       "  'event': 'tokenOrder',\n",
       "  'logIndex': 25,\n",
       "  'transactionIndex': 12,\n",
       "  'transactionHash': HexBytes('0xfd52d5e994908366c3c9d6c65bd4c1ff5945fec8a8934f324487ff2dc59b983e'),\n",
       "  'address': '0x2E9974EC97D17181aFEE5e1e3F3CfD3237C7a079',\n",
       "  'blockHash': HexBytes('0x5a4409a3d89a88898a2e6e9ba66e8d12c500dd39b525b758150dd0a2c948552d'),\n",
       "  'blockNumber': 23861636}),\n",
       " AttributeDict({'args': AttributeDict({'tokenId': 5}),\n",
       "  'event': 'tokenOrder',\n",
       "  'logIndex': 4,\n",
       "  'transactionIndex': 4,\n",
       "  'transactionHash': HexBytes('0x755e58ac573cb0a6f9ff0cdcc458938a67b01ca4089f95dc767e0a6e435de54c'),\n",
       "  'address': '0x2E9974EC97D17181aFEE5e1e3F3CfD3237C7a079',\n",
       "  'blockHash': HexBytes('0xb442280221a49140d918af11b7c54a9b67f207d0579389af495b85074ffae0cf'),\n",
       "  'blockNumber': 23861694}),\n",
       " AttributeDict({'args': AttributeDict({'tokenId': 6}),\n",
       "  'event': 'tokenOrder',\n",
       "  'logIndex': 7,\n",
       "  'transactionIndex': 9,\n",
       "  'transactionHash': HexBytes('0xdde6ab803892f2f64dca6679c92be2fe3bb07c8c31a7c13a7f32e24ce1286030'),\n",
       "  'address': '0x2E9974EC97D17181aFEE5e1e3F3CfD3237C7a079',\n",
       "  'blockHash': HexBytes('0x21089d50d26ccebf5a50ac3ccc026de4e074b86dbd39af6cc51bfe9b8bcfc393'),\n",
       "  'blockNumber': 23861764}),\n",
       " AttributeDict({'args': AttributeDict({'tokenId': 7}),\n",
       "  'event': 'tokenOrder',\n",
       "  'logIndex': 35,\n",
       "  'transactionIndex': 40,\n",
       "  'transactionHash': HexBytes('0x54a2340fe3688836af2209c0ce9ee4ffe310ff79c219758ae1b7ce234953db4f'),\n",
       "  'address': '0x2E9974EC97D17181aFEE5e1e3F3CfD3237C7a079',\n",
       "  'blockHash': HexBytes('0xbacb501556a3cd494ac9f55fbe5f1ac9666a2bc1641c8d10ac528c643f7af5de'),\n",
       "  'blockNumber': 23861869}),\n",
       " AttributeDict({'args': AttributeDict({'tokenId': 8}),\n",
       "  'event': 'tokenOrder',\n",
       "  'logIndex': 15,\n",
       "  'transactionIndex': 16,\n",
       "  'transactionHash': HexBytes('0x8f62589658479920d46d47b9963388c1a7359749d3b0d37962f7d83b5a9ca6fe'),\n",
       "  'address': '0x2E9974EC97D17181aFEE5e1e3F3CfD3237C7a079',\n",
       "  'blockHash': HexBytes('0xeb01109b839267148f4515d96d98ce22fe98cb3b5fc69d16c73f69e3c510bbe3'),\n",
       "  'blockNumber': 23862009}),\n",
       " AttributeDict({'args': AttributeDict({'tokenId': 9}),\n",
       "  'event': 'tokenOrder',\n",
       "  'logIndex': 5,\n",
       "  'transactionIndex': 4,\n",
       "  'transactionHash': HexBytes('0xfa1757e09143086ff059eff9a5f36f25bbf9b9b8c45a72bd40b0aee013fd5e8b'),\n",
       "  'address': '0x2E9974EC97D17181aFEE5e1e3F3CfD3237C7a079',\n",
       "  'blockHash': HexBytes('0x75b897dd86392c0a7eb055cbf321c09a42edc65b98e8dac344f34ad24115e0d2'),\n",
       "  'blockNumber': 23862028}),\n",
       " AttributeDict({'args': AttributeDict({'tokenId': 10}),\n",
       "  'event': 'tokenOrder',\n",
       "  'logIndex': 1,\n",
       "  'transactionIndex': 11,\n",
       "  'transactionHash': HexBytes('0x0b72444743ba8d106605e5dd1fff25495c5be20323f024500f374026cf083773'),\n",
       "  'address': '0x2E9974EC97D17181aFEE5e1e3F3CfD3237C7a079',\n",
       "  'blockHash': HexBytes('0x4009ae6fda1b6e5a93a1035f32442a2ad57911b8356d978670bfc6231c5baf4d'),\n",
       "  'blockNumber': 23862082})]"
      ]
     },
     "metadata": {},
     "execution_count": 117
    }
   ],
   "source": [
    "# returns all orders based on the defined filter (from the block 0x0)\n",
    "\n",
    "blue_order_filter = blue_contract.events.tokenOrder().createFilter(fromBlock=\"0x0\")\n",
    "\n",
    "all_blue_orders = blue_order_filter.get_all_entries()\n",
    "all_blue_orders"
   ]
  },
  {
   "cell_type": "code",
   "execution_count": 118,
   "metadata": {},
   "outputs": [
    {
     "output_type": "execute_result",
     "data": {
      "text/plain": [
       "[AttributeDict({'args': AttributeDict({'tokenId': 1}),\n",
       "  'event': 'tokenOrder',\n",
       "  'logIndex': 36,\n",
       "  'transactionIndex': 8,\n",
       "  'transactionHash': HexBytes('0xbb4e287c17a8705278f5b9017e8eee974d903e594b684a4c39eb772d01561581'),\n",
       "  'address': '0x2E9974EC97D17181aFEE5e1e3F3CfD3237C7a079',\n",
       "  'blockHash': HexBytes('0x4cea8d6b9420518779d8d4074c14908b603534e110510f0bced032eb523bc28b'),\n",
       "  'blockNumber': 23861384}),\n",
       " AttributeDict({'args': AttributeDict({'tokenId': 2}),\n",
       "  'event': 'tokenOrder',\n",
       "  'logIndex': 44,\n",
       "  'transactionIndex': 13,\n",
       "  'transactionHash': HexBytes('0x924f67bdfe935406610e5a5c7e76f77afed2ce160b4dee6cfbae130cc2b07b32'),\n",
       "  'address': '0x2E9974EC97D17181aFEE5e1e3F3CfD3237C7a079',\n",
       "  'blockHash': HexBytes('0xc9becd7790f05b712618e3ccab7f2fbab4fc0841636d682874047f146fbd4028'),\n",
       "  'blockNumber': 23861502}),\n",
       " AttributeDict({'args': AttributeDict({'tokenId': 3}),\n",
       "  'event': 'tokenOrder',\n",
       "  'logIndex': 33,\n",
       "  'transactionIndex': 12,\n",
       "  'transactionHash': HexBytes('0x4362b0bf85722a8839e7a9336d8f008a694edcca839eff5d47c1e2d50e68943f'),\n",
       "  'address': '0x2E9974EC97D17181aFEE5e1e3F3CfD3237C7a079',\n",
       "  'blockHash': HexBytes('0xb33be8116d1cfc90fdcb1444176db0cc9aaa23e08b4055a5d867f9e5ef15c209'),\n",
       "  'blockNumber': 23861603}),\n",
       " AttributeDict({'args': AttributeDict({'tokenId': 4}),\n",
       "  'event': 'tokenOrder',\n",
       "  'logIndex': 25,\n",
       "  'transactionIndex': 12,\n",
       "  'transactionHash': HexBytes('0xfd52d5e994908366c3c9d6c65bd4c1ff5945fec8a8934f324487ff2dc59b983e'),\n",
       "  'address': '0x2E9974EC97D17181aFEE5e1e3F3CfD3237C7a079',\n",
       "  'blockHash': HexBytes('0x5a4409a3d89a88898a2e6e9ba66e8d12c500dd39b525b758150dd0a2c948552d'),\n",
       "  'blockNumber': 23861636}),\n",
       " AttributeDict({'args': AttributeDict({'tokenId': 5}),\n",
       "  'event': 'tokenOrder',\n",
       "  'logIndex': 4,\n",
       "  'transactionIndex': 4,\n",
       "  'transactionHash': HexBytes('0x755e58ac573cb0a6f9ff0cdcc458938a67b01ca4089f95dc767e0a6e435de54c'),\n",
       "  'address': '0x2E9974EC97D17181aFEE5e1e3F3CfD3237C7a079',\n",
       "  'blockHash': HexBytes('0xb442280221a49140d918af11b7c54a9b67f207d0579389af495b85074ffae0cf'),\n",
       "  'blockNumber': 23861694}),\n",
       " AttributeDict({'args': AttributeDict({'tokenId': 6}),\n",
       "  'event': 'tokenOrder',\n",
       "  'logIndex': 7,\n",
       "  'transactionIndex': 9,\n",
       "  'transactionHash': HexBytes('0xdde6ab803892f2f64dca6679c92be2fe3bb07c8c31a7c13a7f32e24ce1286030'),\n",
       "  'address': '0x2E9974EC97D17181aFEE5e1e3F3CfD3237C7a079',\n",
       "  'blockHash': HexBytes('0x21089d50d26ccebf5a50ac3ccc026de4e074b86dbd39af6cc51bfe9b8bcfc393'),\n",
       "  'blockNumber': 23861764}),\n",
       " AttributeDict({'args': AttributeDict({'tokenId': 7}),\n",
       "  'event': 'tokenOrder',\n",
       "  'logIndex': 35,\n",
       "  'transactionIndex': 40,\n",
       "  'transactionHash': HexBytes('0x54a2340fe3688836af2209c0ce9ee4ffe310ff79c219758ae1b7ce234953db4f'),\n",
       "  'address': '0x2E9974EC97D17181aFEE5e1e3F3CfD3237C7a079',\n",
       "  'blockHash': HexBytes('0xbacb501556a3cd494ac9f55fbe5f1ac9666a2bc1641c8d10ac528c643f7af5de'),\n",
       "  'blockNumber': 23861869}),\n",
       " AttributeDict({'args': AttributeDict({'tokenId': 8}),\n",
       "  'event': 'tokenOrder',\n",
       "  'logIndex': 15,\n",
       "  'transactionIndex': 16,\n",
       "  'transactionHash': HexBytes('0x8f62589658479920d46d47b9963388c1a7359749d3b0d37962f7d83b5a9ca6fe'),\n",
       "  'address': '0x2E9974EC97D17181aFEE5e1e3F3CfD3237C7a079',\n",
       "  'blockHash': HexBytes('0xeb01109b839267148f4515d96d98ce22fe98cb3b5fc69d16c73f69e3c510bbe3'),\n",
       "  'blockNumber': 23862009}),\n",
       " AttributeDict({'args': AttributeDict({'tokenId': 9}),\n",
       "  'event': 'tokenOrder',\n",
       "  'logIndex': 5,\n",
       "  'transactionIndex': 4,\n",
       "  'transactionHash': HexBytes('0xfa1757e09143086ff059eff9a5f36f25bbf9b9b8c45a72bd40b0aee013fd5e8b'),\n",
       "  'address': '0x2E9974EC97D17181aFEE5e1e3F3CfD3237C7a079',\n",
       "  'blockHash': HexBytes('0x75b897dd86392c0a7eb055cbf321c09a42edc65b98e8dac344f34ad24115e0d2'),\n",
       "  'blockNumber': 23862028}),\n",
       " AttributeDict({'args': AttributeDict({'tokenId': 10}),\n",
       "  'event': 'tokenOrder',\n",
       "  'logIndex': 1,\n",
       "  'transactionIndex': 11,\n",
       "  'transactionHash': HexBytes('0x0b72444743ba8d106605e5dd1fff25495c5be20323f024500f374026cf083773'),\n",
       "  'address': '0x2E9974EC97D17181aFEE5e1e3F3CfD3237C7a079',\n",
       "  'blockHash': HexBytes('0x4009ae6fda1b6e5a93a1035f32442a2ad57911b8356d978670bfc6231c5baf4d'),\n",
       "  'blockNumber': 23862082})]"
      ]
     },
     "metadata": {},
     "execution_count": 118
    }
   ],
   "source": [
    "# obtain transaction from the specific or 'earliest' block\n",
    "\n",
    "block_read_from = 'earliest'\n",
    "\n",
    "from_blue_block_filter = blue_contract.events.tokenOrder.createFilter(fromBlock=block_read_from)\n",
    "\n",
    "from_blue_block_filter.get_all_entries()"
   ]
  },
  {
   "cell_type": "code",
   "execution_count": 119,
   "metadata": {},
   "outputs": [
    {
     "output_type": "execute_result",
     "data": {
      "text/plain": [
       "[AttributeDict({'args': AttributeDict({'tokenId': 1}),\n",
       "  'event': 'tokenOrder',\n",
       "  'logIndex': 18,\n",
       "  'transactionIndex': 7,\n",
       "  'transactionHash': HexBytes('0x19f2121f7768e2c4ef335e8ea92ef9aaa232316f2e0ee04805b96f8cd421dc5d'),\n",
       "  'address': '0x541b0A62B9Ff59370683EE40d22eaEB4eB231578',\n",
       "  'blockHash': HexBytes('0xfb0542e6d37dd884dc9da62bde1f4cce83a5ae679cfe4a1ec40f44d9c5df4445'),\n",
       "  'blockNumber': 23861285}),\n",
       " AttributeDict({'args': AttributeDict({'tokenId': 2}),\n",
       "  'event': 'tokenOrder',\n",
       "  'logIndex': 54,\n",
       "  'transactionIndex': 16,\n",
       "  'transactionHash': HexBytes('0x1d625fe710f4640ee8828901d30b935e3b9563800c80e8f2d10c301eed65f7e4'),\n",
       "  'address': '0x541b0A62B9Ff59370683EE40d22eaEB4eB231578',\n",
       "  'blockHash': HexBytes('0x5810aefae460e11224046ca1b15dd85170581f10626f6681576fb37893e9d7c9'),\n",
       "  'blockNumber': 23861418}),\n",
       " AttributeDict({'args': AttributeDict({'tokenId': 3}),\n",
       "  'event': 'tokenOrder',\n",
       "  'logIndex': 68,\n",
       "  'transactionIndex': 20,\n",
       "  'transactionHash': HexBytes('0x6c9527a05cba1eea41d20c26a81199cc0c67785c0c717f0401a386579da4034c'),\n",
       "  'address': '0x541b0A62B9Ff59370683EE40d22eaEB4eB231578',\n",
       "  'blockHash': HexBytes('0x5810aefae460e11224046ca1b15dd85170581f10626f6681576fb37893e9d7c9'),\n",
       "  'blockNumber': 23861418}),\n",
       " AttributeDict({'args': AttributeDict({'tokenId': 4}),\n",
       "  'event': 'tokenOrder',\n",
       "  'logIndex': 34,\n",
       "  'transactionIndex': 9,\n",
       "  'transactionHash': HexBytes('0xb14502022981033df4ddecec4a2f65d4108cd290eb3fe8d119a77c8de0450ac3'),\n",
       "  'address': '0x541b0A62B9Ff59370683EE40d22eaEB4eB231578',\n",
       "  'blockHash': HexBytes('0xa2cb27bcb0f25d2fac84341e09282b04ce821bc7fa4ff9c2037255bdc184ae5a'),\n",
       "  'blockNumber': 23861437}),\n",
       " AttributeDict({'args': AttributeDict({'tokenId': 5}),\n",
       "  'event': 'tokenOrder',\n",
       "  'logIndex': 14,\n",
       "  'transactionIndex': 4,\n",
       "  'transactionHash': HexBytes('0x1477bbdec6a1a85aa65f5314b7912049ce0f78d7d6078208d95a97b7f36e13eb'),\n",
       "  'address': '0x541b0A62B9Ff59370683EE40d22eaEB4eB231578',\n",
       "  'blockHash': HexBytes('0xdf5e1985d16be03f2269a83bc09783571e87c58c53babb08d5f1920f82fa0a7c'),\n",
       "  'blockNumber': 23861486}),\n",
       " AttributeDict({'args': AttributeDict({'tokenId': 6}),\n",
       "  'event': 'tokenOrder',\n",
       "  'logIndex': 9,\n",
       "  'transactionIndex': 2,\n",
       "  'transactionHash': HexBytes('0x65f914365480607e586d188a10c1d9769636602393b1cc154d0856813e8bb5d0'),\n",
       "  'address': '0x541b0A62B9Ff59370683EE40d22eaEB4eB231578',\n",
       "  'blockHash': HexBytes('0x2c8a35df55f4f1c4843a3afccc2944fd9faee90508db6102081bb0127a491608'),\n",
       "  'blockNumber': 23861495}),\n",
       " AttributeDict({'args': AttributeDict({'tokenId': 7}),\n",
       "  'event': 'tokenOrder',\n",
       "  'logIndex': 83,\n",
       "  'transactionIndex': 26,\n",
       "  'transactionHash': HexBytes('0x8ac145a354986b4129a80ad5a2edaad738ccca2394a881a1cdecf4f520645e23'),\n",
       "  'address': '0x541b0A62B9Ff59370683EE40d22eaEB4eB231578',\n",
       "  'blockHash': HexBytes('0x018f82d4f4e2f183d4b8f3485479b0c7f884edc9138df52b9c675b9ebde972c2'),\n",
       "  'blockNumber': 23861537}),\n",
       " AttributeDict({'args': AttributeDict({'tokenId': 8}),\n",
       "  'event': 'tokenOrder',\n",
       "  'logIndex': 45,\n",
       "  'transactionIndex': 13,\n",
       "  'transactionHash': HexBytes('0xcedad0dd7b6f4d4e313e9c72e040b121b3fca9e451b43c2c504935d83ceb2ad2'),\n",
       "  'address': '0x541b0A62B9Ff59370683EE40d22eaEB4eB231578',\n",
       "  'blockHash': HexBytes('0x50a74cc889034633cd0576b9eddf96bc3054344b9ae0433b42d040be081fd509'),\n",
       "  'blockNumber': 23861558}),\n",
       " AttributeDict({'args': AttributeDict({'tokenId': 9}),\n",
       "  'event': 'tokenOrder',\n",
       "  'logIndex': 20,\n",
       "  'transactionIndex': 9,\n",
       "  'transactionHash': HexBytes('0xc64316ce51f56d655105f37a464f7ef8437fce49a4d8c9424e8d1ec326e2933b'),\n",
       "  'address': '0x541b0A62B9Ff59370683EE40d22eaEB4eB231578',\n",
       "  'blockHash': HexBytes('0x6bb30b213b1fb6857e5d53eda22cfd446ae1e6bb45660965098f37b1b5b515d3'),\n",
       "  'blockNumber': 23861591}),\n",
       " AttributeDict({'args': AttributeDict({'tokenId': 10}),\n",
       "  'event': 'tokenOrder',\n",
       "  'logIndex': 158,\n",
       "  'transactionIndex': 53,\n",
       "  'transactionHash': HexBytes('0x21965b0a7b0508b1bed24cf0622e95887c9f2b9c1ba7affa57e985735400c0db'),\n",
       "  'address': '0x541b0A62B9Ff59370683EE40d22eaEB4eB231578',\n",
       "  'blockHash': HexBytes('0x225a1d51411bbeeae00f46aeedf82e7940ed5efac6879917ebee896e27578143'),\n",
       "  'blockNumber': 23861890}),\n",
       " AttributeDict({'args': AttributeDict({'tokenId': 11}),\n",
       "  'event': 'tokenOrder',\n",
       "  'logIndex': 9,\n",
       "  'transactionIndex': 10,\n",
       "  'transactionHash': HexBytes('0x75876217908d6177f2bfdc94a2023acb3488bb8c15fe6d4aae6ebf52b44afcf7'),\n",
       "  'address': '0x541b0A62B9Ff59370683EE40d22eaEB4eB231578',\n",
       "  'blockHash': HexBytes('0x0833903f91cb52bb5af86c43ff4de6407b2af19940f14cc7bc532113926cdfc3'),\n",
       "  'blockNumber': 23861985}),\n",
       " AttributeDict({'args': AttributeDict({'tokenId': 12}),\n",
       "  'event': 'tokenOrder',\n",
       "  'logIndex': 10,\n",
       "  'transactionIndex': 12,\n",
       "  'transactionHash': HexBytes('0xfef75a5e0e68800b3da58567c48c99fe31940af763f2308031c4fc9a7db895af'),\n",
       "  'address': '0x541b0A62B9Ff59370683EE40d22eaEB4eB231578',\n",
       "  'blockHash': HexBytes('0x9cdf0d0fc5540bb577baf1f7003e8295faa5963f8f5fa8cfa792c9cfa21ebc52'),\n",
       "  'blockNumber': 23862048}),\n",
       " AttributeDict({'args': AttributeDict({'tokenId': 13}),\n",
       "  'event': 'tokenOrder',\n",
       "  'logIndex': 4,\n",
       "  'transactionIndex': 9,\n",
       "  'transactionHash': HexBytes('0x690f4aa206bab8f04ffe2cda6ab6f98326f62b85f152c907e9f4233716e93ae4'),\n",
       "  'address': '0x541b0A62B9Ff59370683EE40d22eaEB4eB231578',\n",
       "  'blockHash': HexBytes('0xfc2733c9ffaace56dc4a39d55f830a93bd452da7013be4803ff89b82e1acb844'),\n",
       "  'blockNumber': 23862119}),\n",
       " AttributeDict({'args': AttributeDict({'tokenId': 14}),\n",
       "  'event': 'tokenOrder',\n",
       "  'logIndex': 3,\n",
       "  'transactionIndex': 4,\n",
       "  'transactionHash': HexBytes('0x22397c85a011561672b94002672bdd2febbed29b726edbace1944a35422081c8'),\n",
       "  'address': '0x541b0A62B9Ff59370683EE40d22eaEB4eB231578',\n",
       "  'blockHash': HexBytes('0x12f1059bf148bcbea18d3ea34921a7689c4f0e74da6c574608fd1004c56dcef8'),\n",
       "  'blockNumber': 23862193}),\n",
       " AttributeDict({'args': AttributeDict({'tokenId': 15}),\n",
       "  'event': 'tokenOrder',\n",
       "  'logIndex': 4,\n",
       "  'transactionIndex': 8,\n",
       "  'transactionHash': HexBytes('0x4e4e6a430c3cebdea70889b76fdbde384a2d8fd0e45a189d7c7c216d41cb7da4'),\n",
       "  'address': '0x541b0A62B9Ff59370683EE40d22eaEB4eB231578',\n",
       "  'blockHash': HexBytes('0x7c3e072ccf71328d306cc5fcf502ef834dc4fd6fc0aaa6409a0a1269650b36b5'),\n",
       "  'blockNumber': 23862277}),\n",
       " AttributeDict({'args': AttributeDict({'tokenId': 16}),\n",
       "  'event': 'tokenOrder',\n",
       "  'logIndex': 16,\n",
       "  'transactionIndex': 21,\n",
       "  'transactionHash': HexBytes('0xf2b3cfb714898b14ecd954161db026a63d967941d459f85516b19a2ba4d505c6'),\n",
       "  'address': '0x541b0A62B9Ff59370683EE40d22eaEB4eB231578',\n",
       "  'blockHash': HexBytes('0x56d60036e14888932fd2d44d14dcc61f5cf511355296840db066e5579d64769a'),\n",
       "  'blockNumber': 23862306}),\n",
       " AttributeDict({'args': AttributeDict({'tokenId': 17}),\n",
       "  'event': 'tokenOrder',\n",
       "  'logIndex': 1,\n",
       "  'transactionIndex': 17,\n",
       "  'transactionHash': HexBytes('0x779bbcd88f351e0bd1585fd17710f3f061d797ec9478fb239146eb4ff2bbd027'),\n",
       "  'address': '0x541b0A62B9Ff59370683EE40d22eaEB4eB231578',\n",
       "  'blockHash': HexBytes('0x316633ba2fd005bc6c06c71c64596d23566eb38d2c9d7bbd99a064038f8b2d0f'),\n",
       "  'blockNumber': 23862321})]"
      ]
     },
     "metadata": {},
     "execution_count": 119
    }
   ],
   "source": [
    "block_read_from = 'earliest'\n",
    "\n",
    "from_pink_block_filter = pink_contract.events.tokenOrder.createFilter(fromBlock=block_read_from)\n",
    "\n",
    "from_pink_block_filter.get_all_entries()"
   ]
  },
  {
   "cell_type": "code",
   "execution_count": 120,
   "metadata": {},
   "outputs": [
    {
     "output_type": "execute_result",
     "data": {
      "text/plain": [
       "AttributeDict({'args': AttributeDict({'tokenId': 10}),\n",
       " 'event': 'tokenOrder',\n",
       " 'logIndex': 1,\n",
       " 'transactionIndex': 11,\n",
       " 'transactionHash': HexBytes('0x0b72444743ba8d106605e5dd1fff25495c5be20323f024500f374026cf083773'),\n",
       " 'address': '0x2E9974EC97D17181aFEE5e1e3F3CfD3237C7a079',\n",
       " 'blockHash': HexBytes('0x4009ae6fda1b6e5a93a1035f32442a2ad57911b8356d978670bfc6231c5baf4d'),\n",
       " 'blockNumber': 23862082})"
      ]
     },
     "metadata": {},
     "execution_count": 120
    }
   ],
   "source": [
    "# get last blue transaction information\n",
    "\n",
    "from_blue_block_filter.get_all_entries()\n",
    "blue_tx_search = from_blue_block_filter.get_all_entries()[-1]\n",
    "blue_tx_search"
   ]
  },
  {
   "cell_type": "code",
   "execution_count": 121,
   "metadata": {},
   "outputs": [
    {
     "output_type": "execute_result",
     "data": {
      "text/plain": [
       "AttributeDict({'args': AttributeDict({'tokenId': 17}),\n",
       " 'event': 'tokenOrder',\n",
       " 'logIndex': 1,\n",
       " 'transactionIndex': 17,\n",
       " 'transactionHash': HexBytes('0x779bbcd88f351e0bd1585fd17710f3f061d797ec9478fb239146eb4ff2bbd027'),\n",
       " 'address': '0x541b0A62B9Ff59370683EE40d22eaEB4eB231578',\n",
       " 'blockHash': HexBytes('0x316633ba2fd005bc6c06c71c64596d23566eb38d2c9d7bbd99a064038f8b2d0f'),\n",
       " 'blockNumber': 23862321})"
      ]
     },
     "metadata": {},
     "execution_count": 121
    }
   ],
   "source": [
    "# get last pink transaction information\n",
    "\n",
    "from_pink_block_filter.get_all_entries()\n",
    "pink_tx_search = from_pink_block_filter.get_all_entries()[-1]\n",
    "pink_tx_search"
   ]
  },
  {
   "cell_type": "code",
   "execution_count": 122,
   "metadata": {},
   "outputs": [
    {
     "output_type": "execute_result",
     "data": {
      "text/plain": [
       "AttributeDict({'tokenId': 10})"
      ]
     },
     "metadata": {},
     "execution_count": 122
    }
   ],
   "source": [
    "blue_tx_search.args"
   ]
  },
  {
   "cell_type": "code",
   "execution_count": 133,
   "metadata": {},
   "outputs": [
    {
     "output_type": "execute_result",
     "data": {
      "text/plain": [
       "AttributeDict({'tokenId': 17})"
      ]
     },
     "metadata": {},
     "execution_count": 133
    }
   ],
   "source": [
    "pink_tx_search.args"
   ]
  },
  {
   "cell_type": "code",
   "execution_count": 123,
   "metadata": {},
   "outputs": [
    {
     "output_type": "execute_result",
     "data": {
      "text/plain": [
       "10"
      ]
     },
     "metadata": {},
     "execution_count": 123
    }
   ],
   "source": [
    "# extract tokenId\n",
    "\n",
    "blue_token_id = blue_tx_search.args['tokenId']\n",
    "blue_token_id"
   ]
  },
  {
   "cell_type": "code",
   "execution_count": 124,
   "metadata": {},
   "outputs": [
    {
     "output_type": "execute_result",
     "data": {
      "text/plain": [
       "17"
      ]
     },
     "metadata": {},
     "execution_count": 124
    }
   ],
   "source": [
    "pink_token_id = pink_tx_search.args['tokenId']\n",
    "pink_token_id"
   ]
  },
  {
   "cell_type": "code",
   "execution_count": 126,
   "metadata": {},
   "outputs": [
    {
     "output_type": "execute_result",
     "data": {
      "text/plain": [
       "23862082"
      ]
     },
     "metadata": {},
     "execution_count": 126
    }
   ],
   "source": [
    "# obtain the block number based on the set filter\n",
    "\n",
    "blue_last_trans = from_blue_block_filter.get_all_entries()[-1]\n",
    "block = blue_tx_search.blockNumber\n",
    "block"
   ]
  },
  {
   "cell_type": "code",
   "execution_count": 128,
   "metadata": {},
   "outputs": [
    {
     "output_type": "execute_result",
     "data": {
      "text/plain": [
       "23862321"
      ]
     },
     "metadata": {},
     "execution_count": 128
    }
   ],
   "source": [
    "pink_last_trans = from_pink_block_filter.get_all_entries()[-1]\n",
    "block = pink_tx_search.blockNumber\n",
    "block"
   ]
  },
  {
   "cell_type": "code",
   "execution_count": 129,
   "metadata": {},
   "outputs": [
    {
     "output_type": "execute_result",
     "data": {
      "text/plain": [
       "HexBytes('0x0b72444743ba8d106605e5dd1fff25495c5be20323f024500f374026cf083773')"
      ]
     },
     "metadata": {},
     "execution_count": 129
    }
   ],
   "source": [
    "blue_tx_search = from_blue_block_filter.get_all_entries()[-1]\n",
    "blue_tx_hash = blue_tx_search.transactionHash\n",
    "blue_tx_hash"
   ]
  },
  {
   "cell_type": "code",
   "execution_count": 130,
   "metadata": {},
   "outputs": [
    {
     "output_type": "execute_result",
     "data": {
      "text/plain": [
       "HexBytes('0x779bbcd88f351e0bd1585fd17710f3f061d797ec9478fb239146eb4ff2bbd027')"
      ]
     },
     "metadata": {},
     "execution_count": 130
    }
   ],
   "source": [
    "# obtain transaction hash based on the set filter\n",
    "\n",
    "pink_tx_search = from_pink_block_filter.get_all_entries()[-1]\n",
    "pink_tx_hash = pink_tx_search.transactionHash\n",
    "pink_tx_hash"
   ]
  },
  {
   "cell_type": "code",
   "execution_count": 131,
   "metadata": {},
   "outputs": [
    {
     "output_type": "execute_result",
     "data": {
      "text/plain": [
       "'tokenOrder'"
      ]
     },
     "metadata": {},
     "execution_count": 131
    }
   ],
   "source": [
    "# obtain contract event\n",
    "\n",
    "blue_tx_search = from_blue_block_filter.get_all_entries()[-1]\n",
    "blue_event = blue_tx_search.event\n",
    "blue_event"
   ]
  },
  {
   "cell_type": "code",
   "execution_count": 132,
   "metadata": {},
   "outputs": [
    {
     "output_type": "execute_result",
     "data": {
      "text/plain": [
       "'tokenOrder'"
      ]
     },
     "metadata": {},
     "execution_count": 132
    }
   ],
   "source": [
    "pink_tx_search = from_pink_block_filter.get_all_entries()[-1]\n",
    "pink_event = pink_tx_search.event\n",
    "pink_event"
   ]
  }
 ]
}