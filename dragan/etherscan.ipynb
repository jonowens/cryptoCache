{
 "metadata": {
  "language_info": {
   "codemirror_mode": {
    "name": "ipython",
    "version": 3
   },
   "file_extension": ".py",
   "mimetype": "text/x-python",
   "name": "python",
   "nbconvert_exporter": "python",
   "pygments_lexer": "ipython3",
   "version": "3.7.9-final"
  },
  "orig_nbformat": 2,
  "kernelspec": {
   "name": "python3",
   "display_name": "Python 3",
   "language": "python"
  }
 },
 "nbformat": 4,
 "nbformat_minor": 2,
 "cells": [
  {
   "cell_type": "code",
   "execution_count": 1,
   "metadata": {},
   "outputs": [],
   "source": [
    "# import dependencies\n",
    "\n",
    "import requests\n",
    "import os\n",
    "from dotenv import load_dotenv\n",
    "from web3 import Web3, HTTPProvider\n",
    "import pandas as pd\n",
    "from pprint import pprint\n",
    "import json\n",
    "import pandas as pd"
   ]
  },
  {
   "cell_type": "code",
   "execution_count": 2,
   "metadata": {},
   "outputs": [
    {
     "output_type": "execute_result",
     "data": {
      "text/plain": [
       "True"
      ]
     },
     "metadata": {},
     "execution_count": 2
    }
   ],
   "source": [
    "load_dotenv()"
   ]
  },
  {
   "cell_type": "code",
   "execution_count": 3,
   "metadata": {},
   "outputs": [
    {
     "output_type": "execute_result",
     "data": {
      "text/plain": [
       "<web3.main.Web3 at 0x7fe6c116bb50>"
      ]
     },
     "metadata": {},
     "execution_count": 3
    }
   ],
   "source": [
    " # establish the link to Kovan network through Infura API\n",
    " \n",
    " w3 = Web3(Web3.HTTPProvider(\"https://kovan.infura.io/v3/ca2cec39980a4c11810d6859b9f41273\"))\n",
    "\n",
    " w3"
   ]
  },
  {
   "cell_type": "code",
   "execution_count": 4,
   "metadata": {},
   "outputs": [
    {
     "output_type": "execute_result",
     "data": {
      "text/plain": [
       "True"
      ]
     },
     "metadata": {},
     "execution_count": 4
    }
   ],
   "source": [
    "# check the connection to Web3\n",
    "\n",
    "w3.isConnected()"
   ]
  },
  {
   "cell_type": "code",
   "execution_count": 5,
   "metadata": {
    "tags": []
   },
   "outputs": [
    {
     "output_type": "stream",
     "name": "stdout",
     "text": [
      "[{'inputs': [], 'payable': False, 'stateMutability': 'nonpayable', 'type': 'constructor'}, {'anonymous': False, 'inputs': [{'indexed': True, 'internalType': 'address', 'name': 'owner', 'type': 'address'}, {'indexed': True, 'internalType': 'address', 'name': 'approved', 'type': 'address'}, {'indexed': True, 'internalType': 'uint256', 'name': 'tokenId', 'type': 'uint256'}], 'name': 'Approval', 'type': 'event'}, {'anonymous': False, 'inputs': [{'indexed': True, 'internalType': 'address', 'name': 'owner', 'type': 'address'}, {'indexed': True, 'internalType': 'address', 'name': 'operator', 'type': 'address'}, {'indexed': False, 'internalType': 'bool', 'name': 'approved', 'type': 'bool'}], 'name': 'ApprovalForAll', 'type': 'event'}, {'anonymous': False, 'inputs': [{'indexed': True, 'internalType': 'address', 'name': 'from', 'type': 'address'}, {'indexed': True, 'internalType': 'address', 'name': 'to', 'type': 'address'}, {'indexed': True, 'internalType': 'uint256', 'name': 'tokenId', 'type': 'uint256'}], 'name': 'Transfer', 'type': 'event'}, {'anonymous': False, 'inputs': [{'indexed': False, 'internalType': 'uint256', 'name': 'tokenId', 'type': 'uint256'}], 'name': 'tokenOrder', 'type': 'event'}, {'constant': False, 'inputs': [{'internalType': 'address', 'name': 'to', 'type': 'address'}, {'internalType': 'uint256', 'name': 'tokenId', 'type': 'uint256'}], 'name': 'approve', 'outputs': [], 'payable': False, 'stateMutability': 'nonpayable', 'type': 'function'}, {'constant': True, 'inputs': [{'internalType': 'address', 'name': 'owner', 'type': 'address'}], 'name': 'balanceOf', 'outputs': [{'internalType': 'uint256', 'name': '', 'type': 'uint256'}], 'payable': False, 'stateMutability': 'view', 'type': 'function'}, {'constant': True, 'inputs': [], 'name': 'baseURI', 'outputs': [{'internalType': 'string', 'name': '', 'type': 'string'}], 'payable': False, 'stateMutability': 'view', 'type': 'function'}, {'constant': True, 'inputs': [{'internalType': 'uint256', 'name': '', 'type': 'uint256'}], 'name': 'colorToken', 'outputs': [{'internalType': 'address', 'name': 'buyer', 'type': 'address'}, {'internalType': 'string', 'name': 'country', 'type': 'string'}, {'internalType': 'string', 'name': 'state', 'type': 'string'}, {'internalType': 'string', 'name': 'city', 'type': 'string'}, {'internalType': 'string', 'name': 'streetAddress', 'type': 'string'}, {'internalType': 'string', 'name': 'zipCode', 'type': 'string'}], 'payable': False, 'stateMutability': 'view', 'type': 'function'}, {'constant': True, 'inputs': [{'internalType': 'uint256', 'name': 'tokenId', 'type': 'uint256'}], 'name': 'getApproved', 'outputs': [{'internalType': 'address', 'name': '', 'type': 'address'}], 'payable': False, 'stateMutability': 'view', 'type': 'function'}, {'constant': True, 'inputs': [{'internalType': 'address', 'name': 'owner', 'type': 'address'}, {'internalType': 'address', 'name': 'operator', 'type': 'address'}], 'name': 'isApprovedForAll', 'outputs': [{'internalType': 'bool', 'name': '', 'type': 'bool'}], 'payable': False, 'stateMutability': 'view', 'type': 'function'}, {'constant': True, 'inputs': [], 'name': 'name', 'outputs': [{'internalType': 'string', 'name': '', 'type': 'string'}], 'payable': False, 'stateMutability': 'view', 'type': 'function'}, {'constant': False, 'inputs': [{'internalType': 'address', 'name': 'buyer', 'type': 'address'}, {'internalType': 'string', 'name': 'country', 'type': 'string'}, {'internalType': 'string', 'name': 'state', 'type': 'string'}, {'internalType': 'string', 'name': 'city', 'type': 'string'}, {'internalType': 'string', 'name': 'streetAddress', 'type': 'string'}, {'internalType': 'string', 'name': 'zipCode', 'type': 'string'}], 'name': 'orderPrint', 'outputs': [{'internalType': 'uint256', 'name': '', 'type': 'uint256'}], 'payable': True, 'stateMutability': 'payable', 'type': 'function'}, {'constant': True, 'inputs': [{'internalType': 'uint256', 'name': 'tokenId', 'type': 'uint256'}], 'name': 'ownerOf', 'outputs': [{'internalType': 'address', 'name': '', 'type': 'address'}], 'payable': False, 'stateMutability': 'view', 'type': 'function'}, {'constant': False, 'inputs': [{'internalType': 'address', 'name': 'from', 'type': 'address'}, {'internalType': 'address', 'name': 'to', 'type': 'address'}, {'internalType': 'uint256', 'name': 'tokenId', 'type': 'uint256'}], 'name': 'safeTransferFrom', 'outputs': [], 'payable': False, 'stateMutability': 'nonpayable', 'type': 'function'}, {'constant': False, 'inputs': [{'internalType': 'address', 'name': 'from', 'type': 'address'}, {'internalType': 'address', 'name': 'to', 'type': 'address'}, {'internalType': 'uint256', 'name': 'tokenId', 'type': 'uint256'}, {'internalType': 'bytes', 'name': '_data', 'type': 'bytes'}], 'name': 'safeTransferFrom', 'outputs': [], 'payable': False, 'stateMutability': 'nonpayable', 'type': 'function'}, {'constant': False, 'inputs': [{'internalType': 'address', 'name': 'to', 'type': 'address'}, {'internalType': 'bool', 'name': 'approved', 'type': 'bool'}], 'name': 'setApprovalForAll', 'outputs': [], 'payable': False, 'stateMutability': 'nonpayable', 'type': 'function'}, {'constant': True, 'inputs': [{'internalType': 'bytes4', 'name': 'interfaceId', 'type': 'bytes4'}], 'name': 'supportsInterface', 'outputs': [{'internalType': 'bool', 'name': '', 'type': 'bool'}], 'payable': False, 'stateMutability': 'view', 'type': 'function'}, {'constant': True, 'inputs': [], 'name': 'symbol', 'outputs': [{'internalType': 'string', 'name': '', 'type': 'string'}], 'payable': False, 'stateMutability': 'view', 'type': 'function'}, {'constant': True, 'inputs': [{'internalType': 'uint256', 'name': 'index', 'type': 'uint256'}], 'name': 'tokenByIndex', 'outputs': [{'internalType': 'uint256', 'name': '', 'type': 'uint256'}], 'payable': False, 'stateMutability': 'view', 'type': 'function'}, {'constant': True, 'inputs': [{'internalType': 'address', 'name': 'owner', 'type': 'address'}, {'internalType': 'uint256', 'name': 'index', 'type': 'uint256'}], 'name': 'tokenOfOwnerByIndex', 'outputs': [{'internalType': 'uint256', 'name': '', 'type': 'uint256'}], 'payable': False, 'stateMutability': 'view', 'type': 'function'}, {'constant': True, 'inputs': [{'internalType': 'uint256', 'name': 'tokenId', 'type': 'uint256'}], 'name': 'tokenURI', 'outputs': [{'internalType': 'string', 'name': '', 'type': 'string'}], 'payable': False, 'stateMutability': 'view', 'type': 'function'}, {'constant': True, 'inputs': [], 'name': 'totalSupply', 'outputs': [{'internalType': 'uint256', 'name': '', 'type': 'uint256'}], 'payable': False, 'stateMutability': 'view', 'type': 'function'}, {'constant': False, 'inputs': [{'internalType': 'address', 'name': 'from', 'type': 'address'}, {'internalType': 'address', 'name': 'to', 'type': 'address'}, {'internalType': 'uint256', 'name': 'tokenId', 'type': 'uint256'}], 'name': 'transferFrom', 'outputs': [], 'payable': False, 'stateMutability': 'nonpayable', 'type': 'function'}]\n"
     ]
    }
   ],
   "source": [
    "# creates contract ABI file from contract json\n",
    "\n",
    "with open(\"./BlueCoin.json\") as f:\n",
    "    info_json = json.load(f)\n",
    "abi = info_json[\"abi\"]\n",
    "\n",
    "print(abi)"
   ]
  },
  {
   "cell_type": "code",
   "execution_count": 6,
   "metadata": {},
   "outputs": [
    {
     "output_type": "execute_result",
     "data": {
      "text/plain": [
       "'0xC86C8d3E16370dd76e73DdeEf15767E343331816'"
      ]
     },
     "metadata": {},
     "execution_count": 6
    }
   ],
   "source": [
    "# returns token contract address\n",
    "\n",
    "contract_address = '0xC86C8d3E16370dd76e73DdeEf15767E343331816'\n",
    "contract = w3.eth.contract(contract_address, abi=abi)\n",
    "contract.address"
   ]
  },
  {
   "cell_type": "code",
   "execution_count": 7,
   "metadata": {},
   "outputs": [
    {
     "output_type": "execute_result",
     "data": {
      "text/plain": [
       "[<Function approve(address,uint256)>,\n",
       " <Function balanceOf(address)>,\n",
       " <Function baseURI()>,\n",
       " <Function colorToken(uint256)>,\n",
       " <Function getApproved(uint256)>,\n",
       " <Function isApprovedForAll(address,address)>,\n",
       " <Function name()>,\n",
       " <Function orderPrint(address,string,string,string,string,string)>,\n",
       " <Function ownerOf(uint256)>,\n",
       " <Function safeTransferFrom(address,address,uint256)>,\n",
       " <Function safeTransferFrom(address,address,uint256,bytes)>,\n",
       " <Function setApprovalForAll(address,bool)>,\n",
       " <Function supportsInterface(bytes4)>,\n",
       " <Function symbol()>,\n",
       " <Function tokenByIndex(uint256)>,\n",
       " <Function tokenOfOwnerByIndex(address,uint256)>,\n",
       " <Function tokenURI(uint256)>,\n",
       " <Function totalSupply()>,\n",
       " <Function transferFrom(address,address,uint256)>]"
      ]
     },
     "metadata": {},
     "execution_count": 7
    }
   ],
   "source": [
    "# all callable public contract functions\n",
    "\n",
    "contract.all_functions()"
   ]
  },
  {
   "cell_type": "code",
   "execution_count": 8,
   "metadata": {},
   "outputs": [
    {
     "output_type": "execute_result",
     "data": {
      "text/plain": [
       "'BlueToken'"
      ]
     },
     "metadata": {},
     "execution_count": 8
    }
   ],
   "source": [
    "# returns token name\n",
    "\n",
    "contract.functions.name().call()"
   ]
  },
  {
   "cell_type": "code",
   "execution_count": 9,
   "metadata": {},
   "outputs": [
    {
     "output_type": "execute_result",
     "data": {
      "text/plain": [
       "'BLUET'"
      ]
     },
     "metadata": {},
     "execution_count": 9
    }
   ],
   "source": [
    "# returns token symbol\n",
    "\n",
    "contract.functions.symbol().call()"
   ]
  },
  {
   "cell_type": "code",
   "execution_count": 10,
   "metadata": {},
   "outputs": [
    {
     "output_type": "execute_result",
     "data": {
      "text/plain": [
       "6"
      ]
     },
     "metadata": {},
     "execution_count": 10
    }
   ],
   "source": [
    "# returns total number of issued tokens per contract\n",
    "\n",
    "contract.functions.totalSupply().call()"
   ]
  },
  {
   "cell_type": "code",
   "execution_count": 11,
   "metadata": {},
   "outputs": [
    {
     "output_type": "execute_result",
     "data": {
      "text/plain": [
       "['0xb1fE4c500C0E9dBEaB0966D5962Abe0BAC342119',\n",
       " 'USA',\n",
       " 'TX',\n",
       " 'Tomball',\n",
       " '345 Richmond',\n",
       " '77111']"
      ]
     },
     "metadata": {},
     "execution_count": 11
    }
   ],
   "source": [
    "# returns order information per tokenId\n",
    "\n",
    "order_data = contract.functions.colorToken(6).call()\n",
    "order_data"
   ]
  },
  {
   "cell_type": "code",
   "execution_count": 12,
   "metadata": {},
   "outputs": [
    {
     "output_type": "execute_result",
     "data": {
      "text/plain": [
       "[AttributeDict({'args': AttributeDict({'tokenId': 1}),\n",
       "  'event': 'tokenOrder',\n",
       "  'logIndex': 2,\n",
       "  'transactionIndex': 1,\n",
       "  'transactionHash': HexBytes('0xb9d02f65b948416aa80b17f6028006345c824f0d9cf36b28b86474b1ab003af8'),\n",
       "  'address': '0xC86C8d3E16370dd76e73DdeEf15767E343331816',\n",
       "  'blockHash': HexBytes('0xf0701a15290ddd0e4d8eeba08c708c62078c05bea27aee11907540e2d365c32c'),\n",
       "  'blockNumber': 23806802}),\n",
       " AttributeDict({'args': AttributeDict({'tokenId': 2}),\n",
       "  'event': 'tokenOrder',\n",
       "  'logIndex': 20,\n",
       "  'transactionIndex': 4,\n",
       "  'transactionHash': HexBytes('0xb0fa839a7baee565cee993360773dccb616e0c0ca856e95b54a9006a2f7c4c10'),\n",
       "  'address': '0xC86C8d3E16370dd76e73DdeEf15767E343331816',\n",
       "  'blockHash': HexBytes('0x945a3041f4ded837834a9538591d35a5305acec3b53da93dc192cc2c3b18927e'),\n",
       "  'blockNumber': 23807873}),\n",
       " AttributeDict({'args': AttributeDict({'tokenId': 3}),\n",
       "  'event': 'tokenOrder',\n",
       "  'logIndex': 5,\n",
       "  'transactionIndex': 4,\n",
       "  'transactionHash': HexBytes('0x5326bd23ff863b23ec0efbac1e9602298c5ecffdce8012db291b25191ed01c13'),\n",
       "  'address': '0xC86C8d3E16370dd76e73DdeEf15767E343331816',\n",
       "  'blockHash': HexBytes('0x682ed5f1d4b2b967d37bef444cba8bceb080cfd19d133ea4f801e3b725ef0e9a'),\n",
       "  'blockNumber': 23808460}),\n",
       " AttributeDict({'args': AttributeDict({'tokenId': 4}),\n",
       "  'event': 'tokenOrder',\n",
       "  'logIndex': 2,\n",
       "  'transactionIndex': 1,\n",
       "  'transactionHash': HexBytes('0xd2e9552813f7d7e9b8ed68e810e58a439686743db1fdb03c72cb9bdb761b52e0'),\n",
       "  'address': '0xC86C8d3E16370dd76e73DdeEf15767E343331816',\n",
       "  'blockHash': HexBytes('0xd27ba4f472dc0564169993b4900fc830f46c1e460010bd777b6dae3ea4148345'),\n",
       "  'blockNumber': 23829166}),\n",
       " AttributeDict({'args': AttributeDict({'tokenId': 5}),\n",
       "  'event': 'tokenOrder',\n",
       "  'logIndex': 28,\n",
       "  'transactionIndex': 12,\n",
       "  'transactionHash': HexBytes('0xfe4c50558e18aa839459aaa229ac181371cbd71d8c43a32439640295bf57b9e0'),\n",
       "  'address': '0xC86C8d3E16370dd76e73DdeEf15767E343331816',\n",
       "  'blockHash': HexBytes('0x2eb27c7e74d036d6bf60acf72fc006f2f52c5fb5c134e21ee18cce3de76eb323'),\n",
       "  'blockNumber': 23829551}),\n",
       " AttributeDict({'args': AttributeDict({'tokenId': 6}),\n",
       "  'event': 'tokenOrder',\n",
       "  'logIndex': 21,\n",
       "  'transactionIndex': 8,\n",
       "  'transactionHash': HexBytes('0x85c6ff176bc0b090b3af7525de6e01d62010816ab5a7c5f90827d5444774f3e8'),\n",
       "  'address': '0xC86C8d3E16370dd76e73DdeEf15767E343331816',\n",
       "  'blockHash': HexBytes('0x6f509d68345577eadcbcf6351877f9952072f26ceed57967f6ac2554cea815b5'),\n",
       "  'blockNumber': 23829722})]"
      ]
     },
     "metadata": {},
     "execution_count": 12
    }
   ],
   "source": [
    "# returns all orders based on the defined filter (from the block 0x0)\n",
    "\n",
    "order_filter = contract.events.tokenOrder().createFilter(fromBlock=\"0x0\")\n",
    "\n",
    "all_orders = order_filter.get_all_entries()\n",
    "all_orders"
   ]
  },
  {
   "cell_type": "code",
   "execution_count": 13,
   "metadata": {},
   "outputs": [
    {
     "output_type": "execute_result",
     "data": {
      "text/plain": [
       "[AttributeDict({'args': AttributeDict({'tokenId': 1}),\n",
       "  'event': 'tokenOrder',\n",
       "  'logIndex': 2,\n",
       "  'transactionIndex': 1,\n",
       "  'transactionHash': HexBytes('0xb9d02f65b948416aa80b17f6028006345c824f0d9cf36b28b86474b1ab003af8'),\n",
       "  'address': '0xC86C8d3E16370dd76e73DdeEf15767E343331816',\n",
       "  'blockHash': HexBytes('0xf0701a15290ddd0e4d8eeba08c708c62078c05bea27aee11907540e2d365c32c'),\n",
       "  'blockNumber': 23806802}),\n",
       " AttributeDict({'args': AttributeDict({'tokenId': 2}),\n",
       "  'event': 'tokenOrder',\n",
       "  'logIndex': 20,\n",
       "  'transactionIndex': 4,\n",
       "  'transactionHash': HexBytes('0xb0fa839a7baee565cee993360773dccb616e0c0ca856e95b54a9006a2f7c4c10'),\n",
       "  'address': '0xC86C8d3E16370dd76e73DdeEf15767E343331816',\n",
       "  'blockHash': HexBytes('0x945a3041f4ded837834a9538591d35a5305acec3b53da93dc192cc2c3b18927e'),\n",
       "  'blockNumber': 23807873}),\n",
       " AttributeDict({'args': AttributeDict({'tokenId': 3}),\n",
       "  'event': 'tokenOrder',\n",
       "  'logIndex': 5,\n",
       "  'transactionIndex': 4,\n",
       "  'transactionHash': HexBytes('0x5326bd23ff863b23ec0efbac1e9602298c5ecffdce8012db291b25191ed01c13'),\n",
       "  'address': '0xC86C8d3E16370dd76e73DdeEf15767E343331816',\n",
       "  'blockHash': HexBytes('0x682ed5f1d4b2b967d37bef444cba8bceb080cfd19d133ea4f801e3b725ef0e9a'),\n",
       "  'blockNumber': 23808460}),\n",
       " AttributeDict({'args': AttributeDict({'tokenId': 4}),\n",
       "  'event': 'tokenOrder',\n",
       "  'logIndex': 2,\n",
       "  'transactionIndex': 1,\n",
       "  'transactionHash': HexBytes('0xd2e9552813f7d7e9b8ed68e810e58a439686743db1fdb03c72cb9bdb761b52e0'),\n",
       "  'address': '0xC86C8d3E16370dd76e73DdeEf15767E343331816',\n",
       "  'blockHash': HexBytes('0xd27ba4f472dc0564169993b4900fc830f46c1e460010bd777b6dae3ea4148345'),\n",
       "  'blockNumber': 23829166}),\n",
       " AttributeDict({'args': AttributeDict({'tokenId': 5}),\n",
       "  'event': 'tokenOrder',\n",
       "  'logIndex': 28,\n",
       "  'transactionIndex': 12,\n",
       "  'transactionHash': HexBytes('0xfe4c50558e18aa839459aaa229ac181371cbd71d8c43a32439640295bf57b9e0'),\n",
       "  'address': '0xC86C8d3E16370dd76e73DdeEf15767E343331816',\n",
       "  'blockHash': HexBytes('0x2eb27c7e74d036d6bf60acf72fc006f2f52c5fb5c134e21ee18cce3de76eb323'),\n",
       "  'blockNumber': 23829551}),\n",
       " AttributeDict({'args': AttributeDict({'tokenId': 6}),\n",
       "  'event': 'tokenOrder',\n",
       "  'logIndex': 21,\n",
       "  'transactionIndex': 8,\n",
       "  'transactionHash': HexBytes('0x85c6ff176bc0b090b3af7525de6e01d62010816ab5a7c5f90827d5444774f3e8'),\n",
       "  'address': '0xC86C8d3E16370dd76e73DdeEf15767E343331816',\n",
       "  'blockHash': HexBytes('0x6f509d68345577eadcbcf6351877f9952072f26ceed57967f6ac2554cea815b5'),\n",
       "  'blockNumber': 23829722})]"
      ]
     },
     "metadata": {},
     "execution_count": 13
    }
   ],
   "source": [
    "# obtain transaction from the specific or 'earliest' block\n",
    "\n",
    "block_read_from = 'earliest'\n",
    "from_block_filter = contract.events.tokenOrder.createFilter(fromBlock=block_read_from)\n",
    "from_block_filter.get_all_entries()"
   ]
  },
  {
   "cell_type": "code",
   "execution_count": 14,
   "metadata": {},
   "outputs": [
    {
     "output_type": "execute_result",
     "data": {
      "text/plain": [
       "AttributeDict({'args': AttributeDict({'tokenId': 6}),\n",
       " 'event': 'tokenOrder',\n",
       " 'logIndex': 21,\n",
       " 'transactionIndex': 8,\n",
       " 'transactionHash': HexBytes('0x85c6ff176bc0b090b3af7525de6e01d62010816ab5a7c5f90827d5444774f3e8'),\n",
       " 'address': '0xC86C8d3E16370dd76e73DdeEf15767E343331816',\n",
       " 'blockHash': HexBytes('0x6f509d68345577eadcbcf6351877f9952072f26ceed57967f6ac2554cea815b5'),\n",
       " 'blockNumber': 23829722})"
      ]
     },
     "metadata": {},
     "execution_count": 14
    }
   ],
   "source": [
    "# get last transaction information\n",
    "\n",
    "from_block_filter.get_all_entries()\n",
    "tx_search = from_block_filter.get_all_entries()[-1]\n",
    "tx_search"
   ]
  },
  {
   "cell_type": "code",
   "execution_count": 15,
   "metadata": {},
   "outputs": [
    {
     "output_type": "execute_result",
     "data": {
      "text/plain": [
       "AttributeDict({'tokenId': 6})"
      ]
     },
     "metadata": {},
     "execution_count": 15
    }
   ],
   "source": [
    "# obtain tokenId information\n",
    "\n",
    "tx_search.args"
   ]
  },
  {
   "cell_type": "code",
   "execution_count": 16,
   "metadata": {},
   "outputs": [
    {
     "output_type": "execute_result",
     "data": {
      "text/plain": [
       "6"
      ]
     },
     "metadata": {},
     "execution_count": 16
    }
   ],
   "source": [
    "# extract tokenId\n",
    "\n",
    "token_id = tx_search.args['tokenId']\n",
    "token_id"
   ]
  },
  {
   "cell_type": "code",
   "execution_count": 17,
   "metadata": {},
   "outputs": [
    {
     "output_type": "execute_result",
     "data": {
      "text/plain": [
       "23829722"
      ]
     },
     "metadata": {},
     "execution_count": 17
    }
   ],
   "source": [
    "# obtain the block number based on the set filter\n",
    "\n",
    "last_trans = from_block_filter.get_all_entries()[-1]\n",
    "block = tx_search.blockNumber\n",
    "block"
   ]
  },
  {
   "cell_type": "code",
   "execution_count": 18,
   "metadata": {},
   "outputs": [
    {
     "output_type": "execute_result",
     "data": {
      "text/plain": [
       "HexBytes('0x85c6ff176bc0b090b3af7525de6e01d62010816ab5a7c5f90827d5444774f3e8')"
      ]
     },
     "metadata": {},
     "execution_count": 18
    }
   ],
   "source": [
    "# obtain transaction hash based on the set filter\n",
    "\n",
    "tx_search = from_block_filter.get_all_entries()[-1]\n",
    "tx_hash = tx_search.transactionHash\n",
    "tx_hash"
   ]
  },
  {
   "cell_type": "code",
   "execution_count": 19,
   "metadata": {},
   "outputs": [
    {
     "output_type": "execute_result",
     "data": {
      "text/plain": [
       "'tokenOrder'"
      ]
     },
     "metadata": {},
     "execution_count": 19
    }
   ],
   "source": [
    "# obtain contract event\n",
    "\n",
    "tx_search = from_block_filter.get_all_entries()[-1]\n",
    "event = tx_search.event\n",
    "event"
   ]
  },
  {
   "cell_type": "code",
   "execution_count": 28,
   "metadata": {},
   "outputs": [
    {
     "output_type": "execute_result",
     "data": {
      "text/plain": [
       "<Function orderPrint(address,string,string,string,string,string) bound to ('0xb1fE4c500C0E9dBEaB0966D5962Abe0BAC342119', 'USA', 'TX', 'Houston', '123 West', '77567')>"
      ]
     },
     "metadata": {},
     "execution_count": 28
    }
   ],
   "source": [
    "contract.functions.orderPrint('0xb1fE4c500C0E9dBEaB0966D5962Abe0BAC342119', 'USA', 'TX', 'Houston', '123 West', '77567')"
   ]
  },
  {
   "cell_type": "code",
   "execution_count": 30,
   "metadata": {},
   "outputs": [
    {
     "output_type": "execute_result",
     "data": {
      "text/plain": [
       "<Function transferFrom(address,address,uint256) bound to ('0xb1fE4c500C0E9dBEaB0966D5962Abe0BAC342119', '0xC86C8d3E16370dd76e73DdeEf15767E343331816', 1000000000000000000)>"
      ]
     },
     "metadata": {},
     "execution_count": 30
    }
   ],
   "source": [
    "contract.functions.transferFrom('0xb1fE4c500C0E9dBEaB0966D5962Abe0BAC342119','0xC86C8d3E16370dd76e73DdeEf15767E343331816', 1000000000000000000)"
   ]
  },
  {
   "cell_type": "code",
   "execution_count": null,
   "metadata": {},
   "outputs": [],
   "source": []
  }
 ]
}