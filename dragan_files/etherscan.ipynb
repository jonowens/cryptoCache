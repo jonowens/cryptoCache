{
 "metadata": {
  "language_info": {
   "codemirror_mode": {
    "name": "ipython",
    "version": 3
   },
   "file_extension": ".py",
   "mimetype": "text/x-python",
   "name": "python",
   "nbconvert_exporter": "python",
   "pygments_lexer": "ipython3",
   "version": "3.7.9-final"
  },
  "orig_nbformat": 2,
  "kernelspec": {
   "name": "python3",
   "display_name": "Python 3",
   "language": "python"
  }
 },
 "nbformat": 4,
 "nbformat_minor": 2,
 "cells": [
  {
   "cell_type": "code",
   "execution_count": 164,
   "metadata": {},
   "outputs": [],
   "source": [
    "# import dependencies\n",
    "\n",
    "import requests\n",
    "import os\n",
    "from dotenv import load_dotenv\n",
    "from web3 import Web3, HTTPProvider\n",
    "import pandas as pd\n",
    "from pprint import pprint\n",
    "import json"
   ]
  },
  {
   "cell_type": "code",
   "execution_count": 165,
   "metadata": {},
   "outputs": [
    {
     "output_type": "execute_result",
     "data": {
      "text/plain": [
       "True"
      ]
     },
     "metadata": {},
     "execution_count": 165
    }
   ],
   "source": [
    "load_dotenv()"
   ]
  },
  {
   "cell_type": "code",
   "execution_count": 166,
   "metadata": {},
   "outputs": [
    {
     "output_type": "execute_result",
     "data": {
      "text/plain": [
       "<web3.main.Web3 at 0x7fcbf6e20a10>"
      ]
     },
     "metadata": {},
     "execution_count": 166
    }
   ],
   "source": [
    " # establish the link to Kovan network through Infura API\n",
    " \n",
    " w3 = Web3(Web3.HTTPProvider(\"https://kovan.infura.io/v3/ca2cec39980a4c11810d6859b9f41273\"))\n",
    "\n",
    " w3"
   ]
  },
  {
   "cell_type": "code",
   "execution_count": 167,
   "metadata": {},
   "outputs": [
    {
     "output_type": "execute_result",
     "data": {
      "text/plain": [
       "True"
      ]
     },
     "metadata": {},
     "execution_count": 167
    }
   ],
   "source": [
    "# check the connection to Web3\n",
    "\n",
    "w3.isConnected()"
   ]
  },
  {
   "cell_type": "code",
   "execution_count": 168,
   "metadata": {
    "tags": []
   },
   "outputs": [
    {
     "output_type": "stream",
     "name": "stdout",
     "text": [
      "[{'inputs': [], 'payable': False, 'stateMutability': 'nonpayable', 'type': 'constructor'}, {'anonymous': False, 'inputs': [{'indexed': True, 'internalType': 'address', 'name': 'owner', 'type': 'address'}, {'indexed': True, 'internalType': 'address', 'name': 'approved', 'type': 'address'}, {'indexed': True, 'internalType': 'uint256', 'name': 'tokenId', 'type': 'uint256'}], 'name': 'Approval', 'type': 'event'}, {'anonymous': False, 'inputs': [{'indexed': True, 'internalType': 'address', 'name': 'owner', 'type': 'address'}, {'indexed': True, 'internalType': 'address', 'name': 'operator', 'type': 'address'}, {'indexed': False, 'internalType': 'bool', 'name': 'approved', 'type': 'bool'}], 'name': 'ApprovalForAll', 'type': 'event'}, {'anonymous': False, 'inputs': [{'indexed': True, 'internalType': 'address', 'name': 'from', 'type': 'address'}, {'indexed': True, 'internalType': 'address', 'name': 'to', 'type': 'address'}, {'indexed': True, 'internalType': 'uint256', 'name': 'tokenId', 'type': 'uint256'}], 'name': 'Transfer', 'type': 'event'}, {'anonymous': False, 'inputs': [{'indexed': False, 'internalType': 'uint256', 'name': 'tokenId', 'type': 'uint256'}], 'name': 'tokenOrder', 'type': 'event'}, {'constant': False, 'inputs': [{'internalType': 'address', 'name': 'to', 'type': 'address'}, {'internalType': 'uint256', 'name': 'tokenId', 'type': 'uint256'}], 'name': 'approve', 'outputs': [], 'payable': False, 'stateMutability': 'nonpayable', 'type': 'function'}, {'constant': True, 'inputs': [{'internalType': 'address', 'name': 'owner', 'type': 'address'}], 'name': 'balanceOf', 'outputs': [{'internalType': 'uint256', 'name': '', 'type': 'uint256'}], 'payable': False, 'stateMutability': 'view', 'type': 'function'}, {'constant': True, 'inputs': [], 'name': 'baseURI', 'outputs': [{'internalType': 'string', 'name': '', 'type': 'string'}], 'payable': False, 'stateMutability': 'view', 'type': 'function'}, {'constant': True, 'inputs': [{'internalType': 'uint256', 'name': '', 'type': 'uint256'}], 'name': 'colorToken', 'outputs': [{'internalType': 'address', 'name': 'buyer', 'type': 'address'}, {'internalType': 'string', 'name': 'country', 'type': 'string'}, {'internalType': 'string', 'name': 'state', 'type': 'string'}, {'internalType': 'string', 'name': 'city', 'type': 'string'}, {'internalType': 'string', 'name': 'streetAddress', 'type': 'string'}, {'internalType': 'string', 'name': 'zipCode', 'type': 'string'}], 'payable': False, 'stateMutability': 'view', 'type': 'function'}, {'constant': True, 'inputs': [{'internalType': 'uint256', 'name': 'tokenId', 'type': 'uint256'}], 'name': 'getApproved', 'outputs': [{'internalType': 'address', 'name': '', 'type': 'address'}], 'payable': False, 'stateMutability': 'view', 'type': 'function'}, {'constant': True, 'inputs': [{'internalType': 'address', 'name': 'owner', 'type': 'address'}, {'internalType': 'address', 'name': 'operator', 'type': 'address'}], 'name': 'isApprovedForAll', 'outputs': [{'internalType': 'bool', 'name': '', 'type': 'bool'}], 'payable': False, 'stateMutability': 'view', 'type': 'function'}, {'constant': True, 'inputs': [], 'name': 'name', 'outputs': [{'internalType': 'string', 'name': '', 'type': 'string'}], 'payable': False, 'stateMutability': 'view', 'type': 'function'}, {'constant': False, 'inputs': [{'internalType': 'address', 'name': 'buyer', 'type': 'address'}, {'internalType': 'string', 'name': 'country', 'type': 'string'}, {'internalType': 'string', 'name': 'state', 'type': 'string'}, {'internalType': 'string', 'name': 'city', 'type': 'string'}, {'internalType': 'string', 'name': 'streetAddress', 'type': 'string'}, {'internalType': 'string', 'name': 'zipCode', 'type': 'string'}], 'name': 'orderPrint', 'outputs': [{'internalType': 'uint256', 'name': '', 'type': 'uint256'}], 'payable': True, 'stateMutability': 'payable', 'type': 'function'}, {'constant': True, 'inputs': [{'internalType': 'uint256', 'name': 'tokenId', 'type': 'uint256'}], 'name': 'ownerOf', 'outputs': [{'internalType': 'address', 'name': '', 'type': 'address'}], 'payable': False, 'stateMutability': 'view', 'type': 'function'}, {'constant': False, 'inputs': [{'internalType': 'address', 'name': 'from', 'type': 'address'}, {'internalType': 'address', 'name': 'to', 'type': 'address'}, {'internalType': 'uint256', 'name': 'tokenId', 'type': 'uint256'}], 'name': 'safeTransferFrom', 'outputs': [], 'payable': False, 'stateMutability': 'nonpayable', 'type': 'function'}, {'constant': False, 'inputs': [{'internalType': 'address', 'name': 'from', 'type': 'address'}, {'internalType': 'address', 'name': 'to', 'type': 'address'}, {'internalType': 'uint256', 'name': 'tokenId', 'type': 'uint256'}, {'internalType': 'bytes', 'name': '_data', 'type': 'bytes'}], 'name': 'safeTransferFrom', 'outputs': [], 'payable': False, 'stateMutability': 'nonpayable', 'type': 'function'}, {'constant': False, 'inputs': [{'internalType': 'address', 'name': 'to', 'type': 'address'}, {'internalType': 'bool', 'name': 'approved', 'type': 'bool'}], 'name': 'setApprovalForAll', 'outputs': [], 'payable': False, 'stateMutability': 'nonpayable', 'type': 'function'}, {'constant': True, 'inputs': [{'internalType': 'bytes4', 'name': 'interfaceId', 'type': 'bytes4'}], 'name': 'supportsInterface', 'outputs': [{'internalType': 'bool', 'name': '', 'type': 'bool'}], 'payable': False, 'stateMutability': 'view', 'type': 'function'}, {'constant': True, 'inputs': [], 'name': 'symbol', 'outputs': [{'internalType': 'string', 'name': '', 'type': 'string'}], 'payable': False, 'stateMutability': 'view', 'type': 'function'}, {'constant': True, 'inputs': [{'internalType': 'uint256', 'name': 'index', 'type': 'uint256'}], 'name': 'tokenByIndex', 'outputs': [{'internalType': 'uint256', 'name': '', 'type': 'uint256'}], 'payable': False, 'stateMutability': 'view', 'type': 'function'}, {'constant': True, 'inputs': [{'internalType': 'address', 'name': 'owner', 'type': 'address'}, {'internalType': 'uint256', 'name': 'index', 'type': 'uint256'}], 'name': 'tokenOfOwnerByIndex', 'outputs': [{'internalType': 'uint256', 'name': '', 'type': 'uint256'}], 'payable': False, 'stateMutability': 'view', 'type': 'function'}, {'constant': True, 'inputs': [{'internalType': 'uint256', 'name': 'tokenId', 'type': 'uint256'}], 'name': 'tokenURI', 'outputs': [{'internalType': 'string', 'name': '', 'type': 'string'}], 'payable': False, 'stateMutability': 'view', 'type': 'function'}, {'constant': True, 'inputs': [], 'name': 'totalSupply', 'outputs': [{'internalType': 'uint256', 'name': '', 'type': 'uint256'}], 'payable': False, 'stateMutability': 'view', 'type': 'function'}, {'constant': False, 'inputs': [{'internalType': 'address', 'name': 'from', 'type': 'address'}, {'internalType': 'address', 'name': 'to', 'type': 'address'}, {'internalType': 'uint256', 'name': 'tokenId', 'type': 'uint256'}], 'name': 'transferFrom', 'outputs': [], 'payable': False, 'stateMutability': 'nonpayable', 'type': 'function'}]\n"
     ]
    }
   ],
   "source": [
    "# creates contract ABI file from contract json\n",
    "\n",
    "with open(\"./BlueCoin.json\") as f:\n",
    "    info_json = json.load(f)\n",
    "abi = info_json[\"abi\"]\n",
    "\n",
    "print(abi)"
   ]
  },
  {
   "cell_type": "code",
   "execution_count": 169,
   "metadata": {},
   "outputs": [
    {
     "output_type": "execute_result",
     "data": {
      "text/plain": [
       "'0xC86C8d3E16370dd76e73DdeEf15767E343331816'"
      ]
     },
     "metadata": {},
     "execution_count": 169
    }
   ],
   "source": [
    "# returns token contract address\n",
    "contract_address = '0xC86C8d3E16370dd76e73DdeEf15767E343331816'\n",
    "contract = w3.eth.contract(contract_address, abi=abi)\n",
    "contract.address"
   ]
  },
  {
   "cell_type": "code",
   "execution_count": 170,
   "metadata": {},
   "outputs": [
    {
     "output_type": "execute_result",
     "data": {
      "text/plain": [
       "[<Function approve(address,uint256)>,\n",
       " <Function balanceOf(address)>,\n",
       " <Function baseURI()>,\n",
       " <Function colorToken(uint256)>,\n",
       " <Function getApproved(uint256)>,\n",
       " <Function isApprovedForAll(address,address)>,\n",
       " <Function name()>,\n",
       " <Function orderPrint(address,string,string,string,string,string)>,\n",
       " <Function ownerOf(uint256)>,\n",
       " <Function safeTransferFrom(address,address,uint256)>,\n",
       " <Function safeTransferFrom(address,address,uint256,bytes)>,\n",
       " <Function setApprovalForAll(address,bool)>,\n",
       " <Function supportsInterface(bytes4)>,\n",
       " <Function symbol()>,\n",
       " <Function tokenByIndex(uint256)>,\n",
       " <Function tokenOfOwnerByIndex(address,uint256)>,\n",
       " <Function tokenURI(uint256)>,\n",
       " <Function totalSupply()>,\n",
       " <Function transferFrom(address,address,uint256)>]"
      ]
     },
     "metadata": {},
     "execution_count": 170
    }
   ],
   "source": [
    "# all callable public contract functions\n",
    "\n",
    "contract.all_functions()"
   ]
  },
  {
   "cell_type": "code",
   "execution_count": 171,
   "metadata": {},
   "outputs": [
    {
     "output_type": "execute_result",
     "data": {
      "text/plain": [
       "'BlueToken'"
      ]
     },
     "metadata": {},
     "execution_count": 171
    }
   ],
   "source": [
    "# returns token name\n",
    "\n",
    "contract.functions.name().call()"
   ]
  },
  {
   "cell_type": "code",
   "execution_count": 172,
   "metadata": {},
   "outputs": [
    {
     "output_type": "execute_result",
     "data": {
      "text/plain": [
       "'BLUET'"
      ]
     },
     "metadata": {},
     "execution_count": 172
    }
   ],
   "source": [
    "# returns token symbol\n",
    "\n",
    "contract.functions.symbol().call()"
   ]
  },
  {
   "cell_type": "code",
   "execution_count": 173,
   "metadata": {},
   "outputs": [
    {
     "output_type": "execute_result",
     "data": {
      "text/plain": [
       "6"
      ]
     },
     "metadata": {},
     "execution_count": 173
    }
   ],
   "source": [
    "# returns total number of issued tokens per contract\n",
    "\n",
    "contract.functions.totalSupply().call()"
   ]
  },
  {
   "cell_type": "code",
   "execution_count": 174,
   "metadata": {},
   "outputs": [
    {
     "output_type": "execute_result",
     "data": {
      "text/plain": [
       "AttributeDict({'author': '0x03801efb0efe2a25ede5dd3a003ae880c0292e4d',\n",
       " 'difficulty': 340282366920938463463374607431768211454,\n",
       " 'extraData': HexBytes('0xdb830300008c4f70656e457468657265756d86312e34342e30826c69'),\n",
       " 'gasLimit': 12499988,\n",
       " 'gasUsed': 0,\n",
       " 'hash': HexBytes('0x767e29fe54d01cb772f8909b0e2c68c36010e319e36cdd0c9aa2e4f1da66a743'),\n",
       " 'logsBloom': HexBytes('0x00000000000000000000000000000000000000000000000000000000000000000000000000000000000000000000000000000000000000000000000000000000000000000000000000000000000000000000000000000000000000000000000000000000000000000000000000000000000000000000000000000000000000000000000000000000000000000000000000000000000000000000000000000000000000000000000000000000000000000000000000000000000000000000000000000000000000000000000000000000000000000000000000000000000000000000000000000000000000000000000000000000000000000000000000000000'),\n",
       " 'miner': '0x03801EfB0EFe2a25ede5Dd3a003Ae880C0292e4d',\n",
       " 'number': 23830817,\n",
       " 'parentHash': HexBytes('0xf9d4fc0eb8b680440e5ec136205f165d886573c59829de8b61980fead4ed268d'),\n",
       " 'receiptsRoot': HexBytes('0x56e81f171bcc55a6ff8345e692c0f86e5b48e01b996cadc001622fb5e363b421'),\n",
       " 'sealFields': ['0x841811c351',\n",
       "  '0xb841fbccc782ab0be5ce8ed5e7f0ebd43e70567237c81684dd010aecf564c7cf00a31c93ebbdbfa571c25cda92d35fac5aacc308f54e86f3109e395650972c00633d00'],\n",
       " 'sha3Uncles': HexBytes('0x1dcc4de8dec75d7aab85b567b6ccd41ad312451b948a7413f0a142fd40d49347'),\n",
       " 'signature': 'fbccc782ab0be5ce8ed5e7f0ebd43e70567237c81684dd010aecf564c7cf00a31c93ebbdbfa571c25cda92d35fac5aacc308f54e86f3109e395650972c00633d00',\n",
       " 'size': 586,\n",
       " 'stateRoot': HexBytes('0x4940c099e81536ba710ad190e42e4e15a09578f5b465a9a3f2d6c3f1bc8086a5'),\n",
       " 'step': '403817297',\n",
       " 'timestamp': 1615269188,\n",
       " 'totalDifficulty': 8058763696629744994171519283722230365102378167,\n",
       " 'transactions': [],\n",
       " 'transactionsRoot': HexBytes('0x56e81f171bcc55a6ff8345e692c0f86e5b48e01b996cadc001622fb5e363b421'),\n",
       " 'uncles': []})"
      ]
     },
     "metadata": {},
     "execution_count": 174
    }
   ],
   "source": [
    "# returns transaction information based on the specific block\n",
    "\n",
    "w3.eth.get_block('latest')"
   ]
  },
  {
   "cell_type": "code",
   "execution_count": 189,
   "metadata": {},
   "outputs": [
    {
     "output_type": "execute_result",
     "data": {
      "text/plain": [
       "AttributeDict({'blockHash': HexBytes('0xd27ba4f472dc0564169993b4900fc830f46c1e460010bd777b6dae3ea4148345'),\n",
       " 'blockNumber': 23829166,\n",
       " 'contractAddress': None,\n",
       " 'cumulativeGasUsed': 349551,\n",
       " 'from': '0x33EfD6454eb5df2e970558BAce37979EB2B280f1',\n",
       " 'gasUsed': 284600,\n",
       " 'logs': [AttributeDict({'address': '0xC86C8d3E16370dd76e73DdeEf15767E343331816',\n",
       "   'blockHash': HexBytes('0xd27ba4f472dc0564169993b4900fc830f46c1e460010bd777b6dae3ea4148345'),\n",
       "   'blockNumber': 23829166,\n",
       "   'data': '0x',\n",
       "   'logIndex': 1,\n",
       "   'removed': False,\n",
       "   'topics': [HexBytes('0xddf252ad1be2c89b69c2b068fc378daa952ba7f163c4a11628f55a4df523b3ef'),\n",
       "    HexBytes('0x0000000000000000000000000000000000000000000000000000000000000000'),\n",
       "    HexBytes('0x000000000000000000000000b1fe4c500c0e9dbeab0966d5962abe0bac342119'),\n",
       "    HexBytes('0x0000000000000000000000000000000000000000000000000000000000000004')],\n",
       "   'transactionHash': HexBytes('0xd2e9552813f7d7e9b8ed68e810e58a439686743db1fdb03c72cb9bdb761b52e0'),\n",
       "   'transactionIndex': 1,\n",
       "   'transactionLogIndex': '0x0',\n",
       "   'type': 'mined'}),\n",
       "  AttributeDict({'address': '0xC86C8d3E16370dd76e73DdeEf15767E343331816',\n",
       "   'blockHash': HexBytes('0xd27ba4f472dc0564169993b4900fc830f46c1e460010bd777b6dae3ea4148345'),\n",
       "   'blockNumber': 23829166,\n",
       "   'data': '0x0000000000000000000000000000000000000000000000000000000000000004',\n",
       "   'logIndex': 2,\n",
       "   'removed': False,\n",
       "   'topics': [HexBytes('0x61f2fb77d68d95670ee2cc541ace7136f4abda1d7af5b903e6ec8b9348cdc66a')],\n",
       "   'transactionHash': HexBytes('0xd2e9552813f7d7e9b8ed68e810e58a439686743db1fdb03c72cb9bdb761b52e0'),\n",
       "   'transactionIndex': 1,\n",
       "   'transactionLogIndex': '0x1',\n",
       "   'type': 'mined'})],\n",
       " 'logsBloom': HexBytes('0x00000000000000000000000000000000000000000000000000000000000000000000000000010000000000000000000000000000000000000000000000000000080000000000000000000008000000000000000000000000000000000000000208000000020000008000000000000800000000000000000000000010000000000000000000000800000000000000000000000000000800000000000000000000020000000000000000000000000000000040000000000000002000000000000000000002000000000000000000000000000000008000000000000000000020000000000000000000000000000200000000000000000000000000000000000000'),\n",
       " 'status': 1,\n",
       " 'to': '0xC86C8d3E16370dd76e73DdeEf15767E343331816',\n",
       " 'transactionHash': HexBytes('0xd2e9552813f7d7e9b8ed68e810e58a439686743db1fdb03c72cb9bdb761b52e0'),\n",
       " 'transactionIndex': 1})"
      ]
     },
     "metadata": {},
     "execution_count": 189
    }
   ],
   "source": [
    "# obtain transaction receipt based on trans hash\n",
    "\n",
    "txn_hash = '0xd2e9552813f7d7e9b8ed68e810e58a439686743db1fdb03c72cb9bdb761b52e0'\n",
    "txn_receipt = w3.eth.waitForTransactionReceipt(txn_hash)\n",
    "\n",
    "txn_receipt"
   ]
  },
  {
   "cell_type": "code",
   "execution_count": 176,
   "metadata": {},
   "outputs": [
    {
     "output_type": "execute_result",
     "data": {
      "text/plain": [
       "['0xb1fE4c500C0E9dBEaB0966D5962Abe0BAC342119',\n",
       " 'USA',\n",
       " 'TX',\n",
       " 'Austin',\n",
       " '234 Westheimer',\n",
       " '23567']"
      ]
     },
     "metadata": {},
     "execution_count": 176
    }
   ],
   "source": [
    "# returns order information per tokenId\n",
    "\n",
    "order_data = contract.functions.colorToken(5).call()\n",
    "order_data"
   ]
  },
  {
   "cell_type": "code",
   "execution_count": 177,
   "metadata": {},
   "outputs": [
    {
     "output_type": "execute_result",
     "data": {
      "text/plain": [
       "[AttributeDict({'args': AttributeDict({'tokenId': 1}),\n",
       "  'event': 'tokenOrder',\n",
       "  'logIndex': 2,\n",
       "  'transactionIndex': 1,\n",
       "  'transactionHash': HexBytes('0xb9d02f65b948416aa80b17f6028006345c824f0d9cf36b28b86474b1ab003af8'),\n",
       "  'address': '0xC86C8d3E16370dd76e73DdeEf15767E343331816',\n",
       "  'blockHash': HexBytes('0xf0701a15290ddd0e4d8eeba08c708c62078c05bea27aee11907540e2d365c32c'),\n",
       "  'blockNumber': 23806802}),\n",
       " AttributeDict({'args': AttributeDict({'tokenId': 2}),\n",
       "  'event': 'tokenOrder',\n",
       "  'logIndex': 20,\n",
       "  'transactionIndex': 4,\n",
       "  'transactionHash': HexBytes('0xb0fa839a7baee565cee993360773dccb616e0c0ca856e95b54a9006a2f7c4c10'),\n",
       "  'address': '0xC86C8d3E16370dd76e73DdeEf15767E343331816',\n",
       "  'blockHash': HexBytes('0x945a3041f4ded837834a9538591d35a5305acec3b53da93dc192cc2c3b18927e'),\n",
       "  'blockNumber': 23807873}),\n",
       " AttributeDict({'args': AttributeDict({'tokenId': 3}),\n",
       "  'event': 'tokenOrder',\n",
       "  'logIndex': 5,\n",
       "  'transactionIndex': 4,\n",
       "  'transactionHash': HexBytes('0x5326bd23ff863b23ec0efbac1e9602298c5ecffdce8012db291b25191ed01c13'),\n",
       "  'address': '0xC86C8d3E16370dd76e73DdeEf15767E343331816',\n",
       "  'blockHash': HexBytes('0x682ed5f1d4b2b967d37bef444cba8bceb080cfd19d133ea4f801e3b725ef0e9a'),\n",
       "  'blockNumber': 23808460}),\n",
       " AttributeDict({'args': AttributeDict({'tokenId': 4}),\n",
       "  'event': 'tokenOrder',\n",
       "  'logIndex': 2,\n",
       "  'transactionIndex': 1,\n",
       "  'transactionHash': HexBytes('0xd2e9552813f7d7e9b8ed68e810e58a439686743db1fdb03c72cb9bdb761b52e0'),\n",
       "  'address': '0xC86C8d3E16370dd76e73DdeEf15767E343331816',\n",
       "  'blockHash': HexBytes('0xd27ba4f472dc0564169993b4900fc830f46c1e460010bd777b6dae3ea4148345'),\n",
       "  'blockNumber': 23829166}),\n",
       " AttributeDict({'args': AttributeDict({'tokenId': 5}),\n",
       "  'event': 'tokenOrder',\n",
       "  'logIndex': 28,\n",
       "  'transactionIndex': 12,\n",
       "  'transactionHash': HexBytes('0xfe4c50558e18aa839459aaa229ac181371cbd71d8c43a32439640295bf57b9e0'),\n",
       "  'address': '0xC86C8d3E16370dd76e73DdeEf15767E343331816',\n",
       "  'blockHash': HexBytes('0x2eb27c7e74d036d6bf60acf72fc006f2f52c5fb5c134e21ee18cce3de76eb323'),\n",
       "  'blockNumber': 23829551}),\n",
       " AttributeDict({'args': AttributeDict({'tokenId': 6}),\n",
       "  'event': 'tokenOrder',\n",
       "  'logIndex': 21,\n",
       "  'transactionIndex': 8,\n",
       "  'transactionHash': HexBytes('0x85c6ff176bc0b090b3af7525de6e01d62010816ab5a7c5f90827d5444774f3e8'),\n",
       "  'address': '0xC86C8d3E16370dd76e73DdeEf15767E343331816',\n",
       "  'blockHash': HexBytes('0x6f509d68345577eadcbcf6351877f9952072f26ceed57967f6ac2554cea815b5'),\n",
       "  'blockNumber': 23829722})]"
      ]
     },
     "metadata": {},
     "execution_count": 177
    }
   ],
   "source": [
    "# returns all orders based on the defined filter (from the block 0x0)\n",
    "\n",
    "order_filter = contract.events.tokenOrder.createFilter(fromBlock=\"0x0\")\n",
    "\n",
    "all_orders = order_filter.get_all_entries()\n",
    "all_orders"
   ]
  },
  {
   "cell_type": "code",
   "execution_count": 178,
   "metadata": {},
   "outputs": [
    {
     "output_type": "execute_result",
     "data": {
      "text/plain": [
       "4"
      ]
     },
     "metadata": {},
     "execution_count": 178
    }
   ],
   "source": [
    "# returns tokenId based on set index (0 position is TokenId 1)\n",
    "\n",
    "token_id = contract.functions.tokenByIndex(3).call()\n",
    "token_id"
   ]
  },
  {
   "cell_type": "code",
   "execution_count": 179,
   "metadata": {},
   "outputs": [
    {
     "output_type": "execute_result",
     "data": {
      "text/plain": [
       "'0xb1fE4c500C0E9dBEaB0966D5962Abe0BAC342119'"
      ]
     },
     "metadata": {},
     "execution_count": 179
    }
   ],
   "source": [
    "# returns token_id owner\n",
    "\n",
    "token_id_address_owner = contract.functions.ownerOf(3).call()\n",
    "token_id_address_owner"
   ]
  },
  {
   "cell_type": "code",
   "execution_count": 180,
   "metadata": {},
   "outputs": [
    {
     "output_type": "execute_result",
     "data": {
      "text/plain": [
       "4"
      ]
     },
     "metadata": {},
     "execution_count": 180
    }
   ],
   "source": [
    "# returns tokenId by owner address and index\n",
    "\n",
    "token_id_owner_index = contract.functions.tokenOfOwnerByIndex(token_id_address_owner, 3).call()\n",
    "token_id_owner_index"
   ]
  },
  {
   "cell_type": "code",
   "execution_count": 182,
   "metadata": {},
   "outputs": [
    {
     "output_type": "stream",
     "name": "stdout",
     "text": [
      "[AttributeDict({'args': AttributeDict({'tokenId': 4}), 'event': 'tokenOrder', 'logIndex': 2, 'transactionIndex': 1, 'transactionHash': HexBytes('0xd2e9552813f7d7e9b8ed68e810e58a439686743db1fdb03c72cb9bdb761b52e0'), 'address': '0xC86C8d3E16370dd76e73DdeEf15767E343331816', 'blockHash': HexBytes('0xd27ba4f472dc0564169993b4900fc830f46c1e460010bd777b6dae3ea4148345'), 'blockNumber': 23829166}), AttributeDict({'args': AttributeDict({'tokenId': 5}), 'event': 'tokenOrder', 'logIndex': 28, 'transactionIndex': 12, 'transactionHash': HexBytes('0xfe4c50558e18aa839459aaa229ac181371cbd71d8c43a32439640295bf57b9e0'), 'address': '0xC86C8d3E16370dd76e73DdeEf15767E343331816', 'blockHash': HexBytes('0x2eb27c7e74d036d6bf60acf72fc006f2f52c5fb5c134e21ee18cce3de76eb323'), 'blockNumber': 23829551}), AttributeDict({'args': AttributeDict({'tokenId': 6}), 'event': 'tokenOrder', 'logIndex': 21, 'transactionIndex': 8, 'transactionHash': HexBytes('0x85c6ff176bc0b090b3af7525de6e01d62010816ab5a7c5f90827d5444774f3e8'), 'address': '0xC86C8d3E16370dd76e73DdeEf15767E343331816', 'blockHash': HexBytes('0x6f509d68345577eadcbcf6351877f9952072f26ceed57967f6ac2554cea815b5'), 'blockNumber': 23829722})]\n"
     ]
    }
   ],
   "source": [
    "block_read_from = 23829166\n",
    "from_block_filter = contract.events.tokenOrder.createFilter(fromBlock=block_read_from)\n",
    "print(from_block_filter.get_all_entries())"
   ]
  },
  {
   "cell_type": "code",
   "execution_count": 265,
   "metadata": {},
   "outputs": [
    {
     "output_type": "stream",
     "name": "stdout",
     "text": [
      "AttributeDict({'blockHash': HexBytes('0xd27ba4f472dc0564169993b4900fc830f46c1e460010bd777b6dae3ea4148345'), 'blockNumber': 23829166, 'contractAddress': None, 'cumulativeGasUsed': 349551, 'from': '0x33EfD6454eb5df2e970558BAce37979EB2B280f1', 'gasUsed': 284600, 'logs': [AttributeDict({'address': '0xC86C8d3E16370dd76e73DdeEf15767E343331816', 'blockHash': HexBytes('0xd27ba4f472dc0564169993b4900fc830f46c1e460010bd777b6dae3ea4148345'), 'blockNumber': 23829166, 'data': '0x', 'logIndex': 1, 'removed': False, 'topics': [HexBytes('0xddf252ad1be2c89b69c2b068fc378daa952ba7f163c4a11628f55a4df523b3ef'), HexBytes('0x0000000000000000000000000000000000000000000000000000000000000000'), HexBytes('0x000000000000000000000000b1fe4c500c0e9dbeab0966d5962abe0bac342119'), HexBytes('0x0000000000000000000000000000000000000000000000000000000000000004')], 'transactionHash': HexBytes('0xd2e9552813f7d7e9b8ed68e810e58a439686743db1fdb03c72cb9bdb761b52e0'), 'transactionIndex': 1, 'transactionLogIndex': '0x0', 'type': 'mined'}), AttributeDict({'address': '0xC86C8d3E16370dd76e73DdeEf15767E343331816', 'blockHash': HexBytes('0xd27ba4f472dc0564169993b4900fc830f46c1e460010bd777b6dae3ea4148345'), 'blockNumber': 23829166, 'data': '0x0000000000000000000000000000000000000000000000000000000000000004', 'logIndex': 2, 'removed': False, 'topics': [HexBytes('0x61f2fb77d68d95670ee2cc541ace7136f4abda1d7af5b903e6ec8b9348cdc66a')], 'transactionHash': HexBytes('0xd2e9552813f7d7e9b8ed68e810e58a439686743db1fdb03c72cb9bdb761b52e0'), 'transactionIndex': 1, 'transactionLogIndex': '0x1', 'type': 'mined'})], 'logsBloom': HexBytes('0x00000000000000000000000000000000000000000000000000000000000000000000000000010000000000000000000000000000000000000000000000000000080000000000000000000008000000000000000000000000000000000000000208000000020000008000000000000800000000000000000000000010000000000000000000000800000000000000000000000000000800000000000000000000020000000000000000000000000000000040000000000000002000000000000000000002000000000000000000000000000000008000000000000000000020000000000000000000000000000200000000000000000000000000000000000000'), 'status': 1, 'to': '0xC86C8d3E16370dd76e73DdeEf15767E343331816', 'transactionHash': HexBytes('0xd2e9552813f7d7e9b8ed68e810e58a439686743db1fdb03c72cb9bdb761b52e0'), 'transactionIndex': 1})\n"
     ]
    }
   ],
   "source": [
    "#tx_hash = contract.functions.orderPrint().transact()\n",
    "receipt = w3.eth.getTransactionReceipt(txn_hash)\n",
    "print(receipt)"
   ]
  },
  {
   "cell_type": "code",
   "execution_count": 221,
   "metadata": {},
   "outputs": [
    {
     "output_type": "execute_result",
     "data": {
      "text/plain": [
       "(AttributeDict({'args': AttributeDict({'tokenId': 4}),\n",
       "  'event': 'tokenOrder',\n",
       "  'logIndex': 2,\n",
       "  'transactionIndex': 1,\n",
       "  'transactionHash': HexBytes('0xd2e9552813f7d7e9b8ed68e810e58a439686743db1fdb03c72cb9bdb761b52e0'),\n",
       "  'address': '0xC86C8d3E16370dd76e73DdeEf15767E343331816',\n",
       "  'blockHash': HexBytes('0xd27ba4f472dc0564169993b4900fc830f46c1e460010bd777b6dae3ea4148345'),\n",
       "  'blockNumber': 23829166}),)"
      ]
     },
     "metadata": {},
     "execution_count": 221
    }
   ],
   "source": [
    "logs = contract.events.tokenOrder().processReceipt(receipt)\n",
    "logs"
   ]
  },
  {
   "cell_type": "code",
   "execution_count": 262,
   "metadata": {},
   "outputs": [
    {
     "output_type": "execute_result",
     "data": {
      "text/plain": [
       "(AttributeDict({'args': AttributeDict({'tokenId': 4}),\n",
       "  'event': 'tokenOrder',\n",
       "  'logIndex': 2,\n",
       "  'transactionIndex': 1,\n",
       "  'transactionHash': HexBytes('0xd2e9552813f7d7e9b8ed68e810e58a439686743db1fdb03c72cb9bdb761b52e0'),\n",
       "  'address': '0xC86C8d3E16370dd76e73DdeEf15767E343331816',\n",
       "  'blockHash': HexBytes('0xd27ba4f472dc0564169993b4900fc830f46c1e460010bd777b6dae3ea4148345'),\n",
       "  'blockNumber': 23829166}),)"
      ]
     },
     "metadata": {},
     "execution_count": 262
    }
   ],
   "source": [
    "logs"
   ]
  },
  {
   "cell_type": "code",
   "execution_count": 264,
   "metadata": {},
   "outputs": [
    {
     "output_type": "execute_result",
     "data": {
      "text/plain": [
       "'4'"
      ]
     },
     "metadata": {},
     "execution_count": 264
    }
   ],
   "source": [
    "contract.web3.toJSON(token_id)"
   ]
  },
  {
   "cell_type": "code",
   "execution_count": 266,
   "metadata": {},
   "outputs": [
    {
     "output_type": "execute_result",
     "data": {
      "text/plain": [
       "'\\x04'"
      ]
     },
     "metadata": {},
     "execution_count": 266
    }
   ],
   "source": [
    "contract.web3.toText(token_id)"
   ]
  }
 ]
}