{
 "metadata": {
  "language_info": {
   "codemirror_mode": {
    "name": "ipython",
    "version": 3
   },
   "file_extension": ".py",
   "mimetype": "text/x-python",
   "name": "python",
   "nbconvert_exporter": "python",
   "pygments_lexer": "ipython3",
   "version": "3.7.9-final"
  },
  "orig_nbformat": 2,
  "kernelspec": {
   "name": "python3",
   "display_name": "Python 3",
   "language": "python"
  }
 },
 "nbformat": 4,
 "nbformat_minor": 2,
 "cells": [
  {
   "cell_type": "code",
   "execution_count": 39,
   "metadata": {},
   "outputs": [],
   "source": [
    "import requests\n",
    "import etherscan \n",
    "from etherscan import Etherscan\n",
    "import os\n",
    "from dotenv import load_dotenv\n",
    "from web3 import Web3, HTTPProvider\n",
    "import pandas as pd\n",
    "import json"
   ]
  },
  {
   "cell_type": "code",
   "execution_count": 40,
   "metadata": {},
   "outputs": [
    {
     "output_type": "execute_result",
     "data": {
      "text/plain": [
       "True"
      ]
     },
     "metadata": {},
     "execution_count": 40
    }
   ],
   "source": [
    "load_dotenv()"
   ]
  },
  {
   "cell_type": "code",
   "execution_count": 41,
   "metadata": {},
   "outputs": [
    {
     "output_type": "execute_result",
     "data": {
      "text/plain": [
       "<web3.main.Web3 at 0x7fa7b42c8290>"
      ]
     },
     "metadata": {},
     "execution_count": 41
    }
   ],
   "source": [
    " w3 = Web3(Web3.HTTPProvider(\"https://kovan.infura.io/v3/ca2cec39980a4c11810d6859b9f41273\"))\n",
    " w3"
   ]
  },
  {
   "cell_type": "code",
   "execution_count": 42,
   "metadata": {},
   "outputs": [],
   "source": [
    "contract_address = \"0xb68367F7721bb6ADF4e647c438f49e1f1799e307\"\n",
    "#api_key = os.getenv(\"ETH_API_KEY\")\n",
    "#eth = Etherscan(api_key)"
   ]
  },
  {
   "cell_type": "code",
   "execution_count": 43,
   "metadata": {},
   "outputs": [
    {
     "output_type": "execute_result",
     "data": {
      "text/plain": [
       "True"
      ]
     },
     "metadata": {},
     "execution_count": 43
    }
   ],
   "source": [
    "w3.isConnected()"
   ]
  },
  {
   "cell_type": "code",
   "execution_count": 44,
   "metadata": {},
   "outputs": [
    {
     "output_type": "execute_result",
     "data": {
      "text/plain": [
       "1000000000000000000"
      ]
     },
     "metadata": {},
     "execution_count": 44
    }
   ],
   "source": [
    "w3.eth.get_balance(contract_address)"
   ]
  },
  {
   "cell_type": "code",
   "execution_count": 45,
   "metadata": {},
   "outputs": [
    {
     "output_type": "execute_result",
     "data": {
      "text/plain": [
       "1"
      ]
     },
     "metadata": {},
     "execution_count": 45
    }
   ],
   "source": [
    "w3.eth.getTransactionCount(contract_address)"
   ]
  },
  {
   "cell_type": "code",
   "execution_count": 46,
   "metadata": {},
   "outputs": [
    {
     "output_type": "execute_result",
     "data": {
      "text/plain": [
       "AttributeDict({'author': '0x00a0a24b9f0e5ec7aa4c7389b8302fd0123194de',\n",
       " 'difficulty': 131072,\n",
       " 'extraData': HexBytes('0xd5830105048650617269747986312e31352e31826c69'),\n",
       " 'gasLimit': 5994142,\n",
       " 'gasUsed': 0,\n",
       " 'hash': HexBytes('0xaa4149067ff439918dc3cd510ca969cb7b710e4c40b66d535a17b88c4591122c'),\n",
       " 'logsBloom': HexBytes('0x00000000000000000000000000000000000000000000000000000000000000000000000000000000000000000000000000000000000000000000000000000000000000000000000000000000000000000000000000000000000000000000000000000000000000000000000000000000000000000000000000000000000000000000000000000000000000000000000000000000000000000000000000000000000000000000000000000000000000000000000000000000000000000000000000000000000000000000000000000000000000000000000000000000000000000000000000000000000000000000000000000000000000000000000000000000'),\n",
       " 'miner': '0x00A0A24b9f0E5EC7Aa4c7389b8302fd0123194dE',\n",
       " 'number': 1,\n",
       " 'parentHash': HexBytes('0xa3c565fc15c7478862d50ccd6561e3c06b24cc509bf388941c25ea985ce32cb9'),\n",
       " 'receiptsRoot': HexBytes('0x56e81f171bcc55a6ff8345e692c0f86e5b48e01b996cadc001622fb5e363b421'),\n",
       " 'sealFields': ['0x84162e05a6',\n",
       "  '0xb84147ead3ed26a11937a210dd861dd6df225d275dc917156087425955d8414db27b0882b2a7cd10d9a4c8c2f0242c26794039ecbce77ffe3aebc02d9cce3dfb850a00'],\n",
       " 'sha3Uncles': HexBytes('0x1dcc4de8dec75d7aab85b567b6ccd41ad312451b948a7413f0a142fd40d49347'),\n",
       " 'signature': '47ead3ed26a11937a210dd861dd6df225d275dc917156087425955d8414db27b0882b2a7cd10d9a4c8c2f0242c26794039ecbce77ffe3aebc02d9cce3dfb850a00',\n",
       " 'size': 563,\n",
       " 'stateRoot': HexBytes('0x627211819453eefbd3389bac45eecbbd606ad52042d0e2aa839216c8a6107abc'),\n",
       " 'step': '372114854',\n",
       " 'timestamp': 1488459416,\n",
       " 'totalDifficulty': 262144,\n",
       " 'transactions': [],\n",
       " 'transactionsRoot': HexBytes('0x56e81f171bcc55a6ff8345e692c0f86e5b48e01b996cadc001622fb5e363b421'),\n",
       " 'uncles': []})"
      ]
     },
     "metadata": {},
     "execution_count": 46
    }
   ],
   "source": [
    "w3.eth.get_block(1)"
   ]
  },
  {
   "cell_type": "code",
   "execution_count": 57,
   "metadata": {
    "tags": []
   },
   "outputs": [
    {
     "output_type": "stream",
     "name": "stdout",
     "text": [
      "[{'inputs': [], 'payable': False, 'stateMutability': 'nonpayable', 'type': 'constructor'}, {'anonymous': False, 'inputs': [{'indexed': True, 'internalType': 'address', 'name': 'owner', 'type': 'address'}, {'indexed': True, 'internalType': 'address', 'name': 'approved', 'type': 'address'}, {'indexed': True, 'internalType': 'uint256', 'name': 'tokenId', 'type': 'uint256'}], 'name': 'Approval', 'type': 'event'}, {'anonymous': False, 'inputs': [{'indexed': True, 'internalType': 'address', 'name': 'owner', 'type': 'address'}, {'indexed': True, 'internalType': 'address', 'name': 'operator', 'type': 'address'}, {'indexed': False, 'internalType': 'bool', 'name': 'approved', 'type': 'bool'}], 'name': 'ApprovalForAll', 'type': 'event'}, {'anonymous': False, 'inputs': [{'indexed': True, 'internalType': 'address', 'name': 'from', 'type': 'address'}, {'indexed': True, 'internalType': 'address', 'name': 'to', 'type': 'address'}, {'indexed': True, 'internalType': 'uint256', 'name': 'tokenId', 'type': 'uint256'}], 'name': 'Transfer', 'type': 'event'}, {'anonymous': False, 'inputs': [{'indexed': False, 'internalType': 'uint256', 'name': 'tokenId', 'type': 'uint256'}], 'name': 'tokenOrder', 'type': 'event'}, {'constant': False, 'inputs': [{'internalType': 'address', 'name': 'to', 'type': 'address'}, {'internalType': 'uint256', 'name': 'tokenId', 'type': 'uint256'}], 'name': 'approve', 'outputs': [], 'payable': False, 'stateMutability': 'nonpayable', 'type': 'function'}, {'constant': True, 'inputs': [{'internalType': 'address', 'name': 'owner', 'type': 'address'}], 'name': 'balanceOf', 'outputs': [{'internalType': 'uint256', 'name': '', 'type': 'uint256'}], 'payable': False, 'stateMutability': 'view', 'type': 'function'}, {'constant': True, 'inputs': [], 'name': 'baseURI', 'outputs': [{'internalType': 'string', 'name': '', 'type': 'string'}], 'payable': False, 'stateMutability': 'view', 'type': 'function'}, {'constant': True, 'inputs': [{'internalType': 'uint256', 'name': '', 'type': 'uint256'}], 'name': 'colorToken', 'outputs': [{'internalType': 'address', 'name': 'buyer', 'type': 'address'}, {'internalType': 'string', 'name': 'country', 'type': 'string'}, {'internalType': 'string', 'name': 'state', 'type': 'string'}, {'internalType': 'string', 'name': 'city', 'type': 'string'}, {'internalType': 'string', 'name': 'streetAddress', 'type': 'string'}, {'internalType': 'string', 'name': 'zipCode', 'type': 'string'}], 'payable': False, 'stateMutability': 'view', 'type': 'function'}, {'constant': True, 'inputs': [{'internalType': 'uint256', 'name': 'tokenId', 'type': 'uint256'}], 'name': 'getApproved', 'outputs': [{'internalType': 'address', 'name': '', 'type': 'address'}], 'payable': False, 'stateMutability': 'view', 'type': 'function'}, {'constant': True, 'inputs': [{'internalType': 'address', 'name': 'owner', 'type': 'address'}, {'internalType': 'address', 'name': 'operator', 'type': 'address'}], 'name': 'isApprovedForAll', 'outputs': [{'internalType': 'bool', 'name': '', 'type': 'bool'}], 'payable': False, 'stateMutability': 'view', 'type': 'function'}, {'constant': True, 'inputs': [], 'name': 'name', 'outputs': [{'internalType': 'string', 'name': '', 'type': 'string'}], 'payable': False, 'stateMutability': 'view', 'type': 'function'}, {'constant': False, 'inputs': [{'internalType': 'address', 'name': 'buyer', 'type': 'address'}, {'internalType': 'string', 'name': 'country', 'type': 'string'}, {'internalType': 'string', 'name': 'state', 'type': 'string'}, {'internalType': 'string', 'name': 'city', 'type': 'string'}, {'internalType': 'string', 'name': 'streetAddress', 'type': 'string'}, {'internalType': 'string', 'name': 'zipCode', 'type': 'string'}], 'name': 'orderPrint', 'outputs': [{'internalType': 'uint256', 'name': '', 'type': 'uint256'}], 'payable': True, 'stateMutability': 'payable', 'type': 'function'}, {'constant': True, 'inputs': [{'internalType': 'uint256', 'name': 'tokenId', 'type': 'uint256'}], 'name': 'ownerOf', 'outputs': [{'internalType': 'address', 'name': '', 'type': 'address'}], 'payable': False, 'stateMutability': 'view', 'type': 'function'}, {'constant': False, 'inputs': [{'internalType': 'address', 'name': 'from', 'type': 'address'}, {'internalType': 'address', 'name': 'to', 'type': 'address'}, {'internalType': 'uint256', 'name': 'tokenId', 'type': 'uint256'}], 'name': 'safeTransferFrom', 'outputs': [], 'payable': False, 'stateMutability': 'nonpayable', 'type': 'function'}, {'constant': False, 'inputs': [{'internalType': 'address', 'name': 'from', 'type': 'address'}, {'internalType': 'address', 'name': 'to', 'type': 'address'}, {'internalType': 'uint256', 'name': 'tokenId', 'type': 'uint256'}, {'internalType': 'bytes', 'name': '_data', 'type': 'bytes'}], 'name': 'safeTransferFrom', 'outputs': [], 'payable': False, 'stateMutability': 'nonpayable', 'type': 'function'}, {'constant': False, 'inputs': [{'internalType': 'address', 'name': 'to', 'type': 'address'}, {'internalType': 'bool', 'name': 'approved', 'type': 'bool'}], 'name': 'setApprovalForAll', 'outputs': [], 'payable': False, 'stateMutability': 'nonpayable', 'type': 'function'}, {'constant': True, 'inputs': [{'internalType': 'bytes4', 'name': 'interfaceId', 'type': 'bytes4'}], 'name': 'supportsInterface', 'outputs': [{'internalType': 'bool', 'name': '', 'type': 'bool'}], 'payable': False, 'stateMutability': 'view', 'type': 'function'}, {'constant': True, 'inputs': [], 'name': 'symbol', 'outputs': [{'internalType': 'string', 'name': '', 'type': 'string'}], 'payable': False, 'stateMutability': 'view', 'type': 'function'}, {'constant': True, 'inputs': [{'internalType': 'uint256', 'name': 'index', 'type': 'uint256'}], 'name': 'tokenByIndex', 'outputs': [{'internalType': 'uint256', 'name': '', 'type': 'uint256'}], 'payable': False, 'stateMutability': 'view', 'type': 'function'}, {'constant': True, 'inputs': [{'internalType': 'address', 'name': 'owner', 'type': 'address'}, {'internalType': 'uint256', 'name': 'index', 'type': 'uint256'}], 'name': 'tokenOfOwnerByIndex', 'outputs': [{'internalType': 'uint256', 'name': '', 'type': 'uint256'}], 'payable': False, 'stateMutability': 'view', 'type': 'function'}, {'constant': True, 'inputs': [{'internalType': 'uint256', 'name': 'tokenId', 'type': 'uint256'}], 'name': 'tokenURI', 'outputs': [{'internalType': 'string', 'name': '', 'type': 'string'}], 'payable': False, 'stateMutability': 'view', 'type': 'function'}, {'constant': True, 'inputs': [], 'name': 'totalSupply', 'outputs': [{'internalType': 'uint256', 'name': '', 'type': 'uint256'}], 'payable': False, 'stateMutability': 'view', 'type': 'function'}, {'constant': False, 'inputs': [{'internalType': 'address', 'name': 'from', 'type': 'address'}, {'internalType': 'address', 'name': 'to', 'type': 'address'}, {'internalType': 'uint256', 'name': 'tokenId', 'type': 'uint256'}], 'name': 'transferFrom', 'outputs': [], 'payable': False, 'stateMutability': 'nonpayable', 'type': 'function'}]\n"
     ]
    }
   ],
   "source": [
    "with open(\"./BlueCoin.json\") as f:\n",
    "    info_json = json.load(f)\n",
    "abi = info_json[\"abi\"]\n",
    "\n",
    "print(abi)"
   ]
  },
  {
   "cell_type": "code",
   "execution_count": 59,
   "metadata": {},
   "outputs": [
    {
     "output_type": "execute_result",
     "data": {
      "text/plain": [
       "'0xb68367F7721bb6ADF4e647c438f49e1f1799e307'"
      ]
     },
     "metadata": {},
     "execution_count": 59
    }
   ],
   "source": [
    "contract = w3.eth.contract(contract_address, abi=abi)\n",
    "contract.address"
   ]
  },
  {
   "cell_type": "code",
   "execution_count": 60,
   "metadata": {},
   "outputs": [
    {
     "output_type": "execute_result",
     "data": {
      "text/plain": [
       "'BlueToken'"
      ]
     },
     "metadata": {},
     "execution_count": 60
    }
   ],
   "source": [
    "contract.functions.name().call()"
   ]
  },
  {
   "cell_type": "code",
   "execution_count": 64,
   "metadata": {},
   "outputs": [
    {
     "output_type": "execute_result",
     "data": {
      "text/plain": [
       "'BLUET'"
      ]
     },
     "metadata": {},
     "execution_count": 64
    }
   ],
   "source": [
    "contract.functions.symbol().call()"
   ]
  },
  {
   "cell_type": "code",
   "execution_count": 65,
   "metadata": {},
   "outputs": [
    {
     "output_type": "execute_result",
     "data": {
      "text/plain": [
       "1"
      ]
     },
     "metadata": {},
     "execution_count": 65
    }
   ],
   "source": [
    "contract.functions.totalSupply().call()"
   ]
  },
  {
   "cell_type": "code",
   "execution_count": 72,
   "metadata": {},
   "outputs": [
    {
     "output_type": "execute_result",
     "data": {
      "text/plain": [
       "AttributeDict({'blockHash': HexBytes('0x8d9a496e07d7f49ab586402b2591c95ea8231b72d14ad143d348b0a348b55bf3'),\n",
       " 'blockNumber': 23780947,\n",
       " 'contractAddress': None,\n",
       " 'cumulativeGasUsed': 3395872,\n",
       " 'from': '0x33EfD6454eb5df2e970558BAce37979EB2B280f1',\n",
       " 'gasUsed': 359169,\n",
       " 'logs': [AttributeDict({'address': '0xb68367F7721bb6ADF4e647c438f49e1f1799e307',\n",
       "   'blockHash': HexBytes('0x8d9a496e07d7f49ab586402b2591c95ea8231b72d14ad143d348b0a348b55bf3'),\n",
       "   'blockNumber': 23780947,\n",
       "   'data': '0x',\n",
       "   'logIndex': 114,\n",
       "   'removed': False,\n",
       "   'topics': [HexBytes('0xddf252ad1be2c89b69c2b068fc378daa952ba7f163c4a11628f55a4df523b3ef'),\n",
       "    HexBytes('0x0000000000000000000000000000000000000000000000000000000000000000'),\n",
       "    HexBytes('0x000000000000000000000000b1fe4c500c0e9dbeab0966d5962abe0bac342119'),\n",
       "    HexBytes('0x0000000000000000000000000000000000000000000000000000000000000001')],\n",
       "   'transactionHash': HexBytes('0xffd9248b75a645937a548ad14f11a9ce2e45d5c01895bb2b180dd012a661ef1a'),\n",
       "   'transactionIndex': 9,\n",
       "   'transactionLogIndex': '0x0',\n",
       "   'type': 'mined'}),\n",
       "  AttributeDict({'address': '0xb68367F7721bb6ADF4e647c438f49e1f1799e307',\n",
       "   'blockHash': HexBytes('0x8d9a496e07d7f49ab586402b2591c95ea8231b72d14ad143d348b0a348b55bf3'),\n",
       "   'blockNumber': 23780947,\n",
       "   'data': '0x000000000000000000000000b1fe4c500c0e9dbeab0966d5962abe0bac34211900000000000000000000000000000000000000000000000000000000000001000000000000000000000000000000000000000000000000000000000000000140000000000000000000000000000000000000000000000000000000000000018000000000000000000000000000000000000000000000000000000000000001c000000000000000000000000000000000000000000000000000000000000002000000000000000000000000000000000000000000000000000000000000000240000000000000000000000000000000000000000000000000000000000000028000000000000000000000000000000000000000000000000000000000000000044a6f686e000000000000000000000000000000000000000000000000000000000000000000000000000000000000000000000000000000000000000000000003446f65000000000000000000000000000000000000000000000000000000000000000000000000000000000000000000000000000000000000000000000000035553410000000000000000000000000000000000000000000000000000000000000000000000000000000000000000000000000000000000000000000000000254580000000000000000000000000000000000000000000000000000000000000000000000000000000000000000000000000000000000000000000000000007486f7573746f6e00000000000000000000000000000000000000000000000000000000000000000000000000000000000000000000000000000000000000000c313233342057657374205264000000000000000000000000000000000000000000000000000000000000000000000000000000000000000000000000000000053737333435000000000000000000000000000000000000000000000000000000',\n",
       "   'logIndex': 115,\n",
       "   'removed': False,\n",
       "   'topics': [HexBytes('0x0f660a62b0aafde221c9245522c80d3af84b8b8a512fd69e5ba4e684b09e55e5')],\n",
       "   'transactionHash': HexBytes('0xffd9248b75a645937a548ad14f11a9ce2e45d5c01895bb2b180dd012a661ef1a'),\n",
       "   'transactionIndex': 9,\n",
       "   'transactionLogIndex': '0x1',\n",
       "   'type': 'mined'}),\n",
       "  AttributeDict({'address': '0xb68367F7721bb6ADF4e647c438f49e1f1799e307',\n",
       "   'blockHash': HexBytes('0x8d9a496e07d7f49ab586402b2591c95ea8231b72d14ad143d348b0a348b55bf3'),\n",
       "   'blockNumber': 23780947,\n",
       "   'data': '0x0000000000000000000000000000000000000000000000000000000000000001',\n",
       "   'logIndex': 116,\n",
       "   'removed': False,\n",
       "   'topics': [HexBytes('0x61f2fb77d68d95670ee2cc541ace7136f4abda1d7af5b903e6ec8b9348cdc66a')],\n",
       "   'transactionHash': HexBytes('0xffd9248b75a645937a548ad14f11a9ce2e45d5c01895bb2b180dd012a661ef1a'),\n",
       "   'transactionIndex': 9,\n",
       "   'transactionLogIndex': '0x2',\n",
       "   'type': 'mined'})],\n",
       " 'logsBloom': HexBytes('0x00000000000000000000000000000000400000000010000000000000000000000000000000000000000000000000000000000000000000000000000000040000080000000000000000000008000000000000000000040000000000000000000200000000020000000000000000000800000000000000000000000010008000000000000000000800000000000000000000000000000800000000000200000020020000000000000000000000000000000000000000000000000000000000000000000002000000000000000000000000080000000000000000000000000060000000000000000000000000000200000000000000000000000000000000000000'),\n",
       " 'status': 1,\n",
       " 'to': '0xb68367F7721bb6ADF4e647c438f49e1f1799e307',\n",
       " 'transactionHash': HexBytes('0xffd9248b75a645937a548ad14f11a9ce2e45d5c01895bb2b180dd012a661ef1a'),\n",
       " 'transactionIndex': 9})"
      ]
     },
     "metadata": {},
     "execution_count": 72
    }
   ],
   "source": [
    "txn_hash = '0xffd9248b75a645937a548ad14f11a9ce2e45d5c01895bb2b180dd012a661ef1a'\n",
    "txn_receipt = w3.eth.waitForTransactionReceipt(txn_hash)\n",
    "txn_receipt"
   ]
  },
  {
   "cell_type": "code",
   "execution_count": null,
   "metadata": {},
   "outputs": [],
   "source": []
  }
 ]
}