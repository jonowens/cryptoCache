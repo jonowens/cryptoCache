{
 "metadata": {
  "language_info": {
   "codemirror_mode": {
    "name": "ipython",
    "version": 3
   },
   "file_extension": ".py",
   "mimetype": "text/x-python",
   "name": "python",
   "nbconvert_exporter": "python",
   "pygments_lexer": "ipython3",
   "version": "3.7.9-final"
  },
  "orig_nbformat": 2,
  "kernelspec": {
   "name": "python3",
   "display_name": "Python 3",
   "language": "python"
  }
 },
 "nbformat": 4,
 "nbformat_minor": 2,
 "cells": [
  {
   "cell_type": "code",
   "execution_count": 1,
   "metadata": {},
   "outputs": [],
   "source": [
    "# import dependencies\n",
    "\n",
    "import requests\n",
    "import os\n",
    "from dotenv import load_dotenv\n",
    "from web3 import Web3, HTTPProvider\n",
    "import pandas as pd\n",
    "from pprint import pprint\n",
    "import json"
   ]
  },
  {
   "cell_type": "code",
   "execution_count": 2,
   "metadata": {},
   "outputs": [
    {
     "output_type": "execute_result",
     "data": {
      "text/plain": [
       "True"
      ]
     },
     "metadata": {},
     "execution_count": 2
    }
   ],
   "source": [
    "load_dotenv()"
   ]
  },
  {
   "cell_type": "code",
   "execution_count": 3,
   "metadata": {},
   "outputs": [
    {
     "output_type": "execute_result",
     "data": {
      "text/plain": [
       "<web3.main.Web3 at 0x7ffcb716c990>"
      ]
     },
     "metadata": {},
     "execution_count": 3
    }
   ],
   "source": [
    " # establish the link to Kovan network through Infura API\n",
    " \n",
    " w3 = Web3(Web3.HTTPProvider(\"https://kovan.infura.io/v3/ca2cec39980a4c11810d6859b9f41273\"))\n",
    "\n",
    " w3"
   ]
  },
  {
   "cell_type": "code",
   "execution_count": 5,
   "metadata": {},
   "outputs": [
    {
     "output_type": "execute_result",
     "data": {
      "text/plain": [
       "True"
      ]
     },
     "metadata": {},
     "execution_count": 5
    }
   ],
   "source": [
    "# check the connection to Web3\n",
    "\n",
    "w3.isConnected()"
   ]
  },
  {
   "cell_type": "code",
   "execution_count": 6,
   "metadata": {},
   "outputs": [
    {
     "output_type": "execute_result",
     "data": {
      "text/plain": [
       "AttributeDict({'author': '0x596e8221a30bfe6e7eff67fee664a01c73ba3c56',\n",
       " 'difficulty': 340282366920938463463374607431768211453,\n",
       " 'extraData': HexBytes('0xde830207028f5061726974792d457468657265756d86312e34312e30826c69'),\n",
       " 'gasLimit': 12500000,\n",
       " 'gasUsed': 2114743,\n",
       " 'hash': HexBytes('0x945a3041f4ded837834a9538591d35a5305acec3b53da93dc192cc2c3b18927e'),\n",
       " 'logsBloom': HexBytes('0x04280000480001004800000280000000000480800080010088810000008202000022000000010000082001000000000081000000820001209204001000202000088000200800020000000208010000600001000400400000080002000024000300000000420000008000144000010a00000400040000c440900020100010044250020000a000080900420100a020000080405000804f00084010014000000002030000004208000000000100400000080040000040801024000010008000c0000400000a200000040000200400002021114000400000001000821002000020000014200010200000030000500300000044900000008010200000010040000400'),\n",
       " 'miner': '0x596e8221A30bFe6e7eFF67Fee664A01C73BA3C56',\n",
       " 'number': 23807873,\n",
       " 'parentHash': HexBytes('0xdb063fcb2a2202d6b92e16ba010789add43503545b63c112aaaef8e3f15af2f9'),\n",
       " 'receiptsRoot': HexBytes('0x181b858e794f1bcccb4c10f36a8a71c76634b711a2acde57804f7a6c27889ec6'),\n",
       " 'sealFields': ['0x8418114a8f',\n",
       "  '0xb84185283f0e7b1dbef5c0df06c277e4db4992b01baf2594f98844ad6d351a011bf00ed399fbd18bac63cf3db9d2d979cca9fddf680a42608bd19f6d528ae12e695201'],\n",
       " 'sha3Uncles': HexBytes('0x1dcc4de8dec75d7aab85b567b6ccd41ad312451b948a7413f0a142fd40d49347'),\n",
       " 'signature': '85283f0e7b1dbef5c0df06c277e4db4992b01baf2594f98844ad6d351a011bf00ed399fbd18bac63cf3db9d2d979cca9fddf680a42608bd19f6d528ae12e695201',\n",
       " 'size': 11819,\n",
       " 'stateRoot': HexBytes('0xd69c064cdf80cd19f24ff52c10909c76e29ec86aa8a23828518fbd4b304820ac'),\n",
       " 'step': '403786383',\n",
       " 'timestamp': 1615145532,\n",
       " 'totalDifficulty': 8050956258003110982065815616729315875258785561,\n",
       " 'transactions': [HexBytes('0xa21c4c685b468a802f737353e24724f28bcce37a8eacea96809f3003b5c66423'),\n",
       "  HexBytes('0xe44c70cb08c63ab1522ffc95897dba1a0e4fe3949eb9e08437dfd5cd974a9a01'),\n",
       "  HexBytes('0x3f04739d16bc11c46c76cd513cdbaabe8032a0e3b6510582f5966222b1a78924'),\n",
       "  HexBytes('0x99c1487f5018c4b7a8c1cfae7a5ff91877cc088a57a95d391ed912d03e4ec1e9'),\n",
       "  HexBytes('0xb0fa839a7baee565cee993360773dccb616e0c0ca856e95b54a9006a2f7c4c10'),\n",
       "  HexBytes('0x13d7200ecc83afd2f5f428cd79f3f75bfdee65d1e723322c1cd7052e91488124'),\n",
       "  HexBytes('0xd87a9e0938aa93eefb5174ed390b6f126b90ed14caeea9732ff474646ab81f56')],\n",
       " 'transactionsRoot': HexBytes('0xd8849ebb1eabeb3f6cd09b7f398a3eff49a9083685a8095b667c6e03087157c7'),\n",
       " 'uncles': []})"
      ]
     },
     "metadata": {},
     "execution_count": 6
    }
   ],
   "source": [
    "# returns transaction information based on the specific block\n",
    "\n",
    "w3.eth.get_block(23807873)"
   ]
  },
  {
   "cell_type": "code",
   "execution_count": 7,
   "metadata": {
    "tags": []
   },
   "outputs": [
    {
     "output_type": "stream",
     "name": "stdout",
     "text": [
      "[{'inputs': [], 'payable': False, 'stateMutability': 'nonpayable', 'type': 'constructor'}, {'anonymous': False, 'inputs': [{'indexed': True, 'internalType': 'address', 'name': 'owner', 'type': 'address'}, {'indexed': True, 'internalType': 'address', 'name': 'approved', 'type': 'address'}, {'indexed': True, 'internalType': 'uint256', 'name': 'tokenId', 'type': 'uint256'}], 'name': 'Approval', 'type': 'event'}, {'anonymous': False, 'inputs': [{'indexed': True, 'internalType': 'address', 'name': 'owner', 'type': 'address'}, {'indexed': True, 'internalType': 'address', 'name': 'operator', 'type': 'address'}, {'indexed': False, 'internalType': 'bool', 'name': 'approved', 'type': 'bool'}], 'name': 'ApprovalForAll', 'type': 'event'}, {'anonymous': False, 'inputs': [{'indexed': True, 'internalType': 'address', 'name': 'from', 'type': 'address'}, {'indexed': True, 'internalType': 'address', 'name': 'to', 'type': 'address'}, {'indexed': True, 'internalType': 'uint256', 'name': 'tokenId', 'type': 'uint256'}], 'name': 'Transfer', 'type': 'event'}, {'anonymous': False, 'inputs': [{'indexed': False, 'internalType': 'uint256', 'name': 'tokenId', 'type': 'uint256'}], 'name': 'tokenOrder', 'type': 'event'}, {'constant': False, 'inputs': [{'internalType': 'address', 'name': 'to', 'type': 'address'}, {'internalType': 'uint256', 'name': 'tokenId', 'type': 'uint256'}], 'name': 'approve', 'outputs': [], 'payable': False, 'stateMutability': 'nonpayable', 'type': 'function'}, {'constant': True, 'inputs': [{'internalType': 'address', 'name': 'owner', 'type': 'address'}], 'name': 'balanceOf', 'outputs': [{'internalType': 'uint256', 'name': '', 'type': 'uint256'}], 'payable': False, 'stateMutability': 'view', 'type': 'function'}, {'constant': True, 'inputs': [], 'name': 'baseURI', 'outputs': [{'internalType': 'string', 'name': '', 'type': 'string'}], 'payable': False, 'stateMutability': 'view', 'type': 'function'}, {'constant': True, 'inputs': [{'internalType': 'uint256', 'name': '', 'type': 'uint256'}], 'name': 'colorToken', 'outputs': [{'internalType': 'address', 'name': 'buyer', 'type': 'address'}, {'internalType': 'string', 'name': 'country', 'type': 'string'}, {'internalType': 'string', 'name': 'state', 'type': 'string'}, {'internalType': 'string', 'name': 'city', 'type': 'string'}, {'internalType': 'string', 'name': 'streetAddress', 'type': 'string'}, {'internalType': 'string', 'name': 'zipCode', 'type': 'string'}], 'payable': False, 'stateMutability': 'view', 'type': 'function'}, {'constant': True, 'inputs': [{'internalType': 'uint256', 'name': 'tokenId', 'type': 'uint256'}], 'name': 'getApproved', 'outputs': [{'internalType': 'address', 'name': '', 'type': 'address'}], 'payable': False, 'stateMutability': 'view', 'type': 'function'}, {'constant': True, 'inputs': [{'internalType': 'address', 'name': 'owner', 'type': 'address'}, {'internalType': 'address', 'name': 'operator', 'type': 'address'}], 'name': 'isApprovedForAll', 'outputs': [{'internalType': 'bool', 'name': '', 'type': 'bool'}], 'payable': False, 'stateMutability': 'view', 'type': 'function'}, {'constant': True, 'inputs': [], 'name': 'name', 'outputs': [{'internalType': 'string', 'name': '', 'type': 'string'}], 'payable': False, 'stateMutability': 'view', 'type': 'function'}, {'constant': False, 'inputs': [{'internalType': 'address', 'name': 'buyer', 'type': 'address'}, {'internalType': 'string', 'name': 'country', 'type': 'string'}, {'internalType': 'string', 'name': 'state', 'type': 'string'}, {'internalType': 'string', 'name': 'city', 'type': 'string'}, {'internalType': 'string', 'name': 'streetAddress', 'type': 'string'}, {'internalType': 'string', 'name': 'zipCode', 'type': 'string'}], 'name': 'orderPrint', 'outputs': [{'internalType': 'uint256', 'name': '', 'type': 'uint256'}], 'payable': True, 'stateMutability': 'payable', 'type': 'function'}, {'constant': True, 'inputs': [{'internalType': 'uint256', 'name': 'tokenId', 'type': 'uint256'}], 'name': 'ownerOf', 'outputs': [{'internalType': 'address', 'name': '', 'type': 'address'}], 'payable': False, 'stateMutability': 'view', 'type': 'function'}, {'constant': False, 'inputs': [{'internalType': 'address', 'name': 'from', 'type': 'address'}, {'internalType': 'address', 'name': 'to', 'type': 'address'}, {'internalType': 'uint256', 'name': 'tokenId', 'type': 'uint256'}], 'name': 'safeTransferFrom', 'outputs': [], 'payable': False, 'stateMutability': 'nonpayable', 'type': 'function'}, {'constant': False, 'inputs': [{'internalType': 'address', 'name': 'from', 'type': 'address'}, {'internalType': 'address', 'name': 'to', 'type': 'address'}, {'internalType': 'uint256', 'name': 'tokenId', 'type': 'uint256'}, {'internalType': 'bytes', 'name': '_data', 'type': 'bytes'}], 'name': 'safeTransferFrom', 'outputs': [], 'payable': False, 'stateMutability': 'nonpayable', 'type': 'function'}, {'constant': False, 'inputs': [{'internalType': 'address', 'name': 'to', 'type': 'address'}, {'internalType': 'bool', 'name': 'approved', 'type': 'bool'}], 'name': 'setApprovalForAll', 'outputs': [], 'payable': False, 'stateMutability': 'nonpayable', 'type': 'function'}, {'constant': True, 'inputs': [{'internalType': 'bytes4', 'name': 'interfaceId', 'type': 'bytes4'}], 'name': 'supportsInterface', 'outputs': [{'internalType': 'bool', 'name': '', 'type': 'bool'}], 'payable': False, 'stateMutability': 'view', 'type': 'function'}, {'constant': True, 'inputs': [], 'name': 'symbol', 'outputs': [{'internalType': 'string', 'name': '', 'type': 'string'}], 'payable': False, 'stateMutability': 'view', 'type': 'function'}, {'constant': True, 'inputs': [{'internalType': 'uint256', 'name': 'index', 'type': 'uint256'}], 'name': 'tokenByIndex', 'outputs': [{'internalType': 'uint256', 'name': '', 'type': 'uint256'}], 'payable': False, 'stateMutability': 'view', 'type': 'function'}, {'constant': True, 'inputs': [{'internalType': 'address', 'name': 'owner', 'type': 'address'}, {'internalType': 'uint256', 'name': 'index', 'type': 'uint256'}], 'name': 'tokenOfOwnerByIndex', 'outputs': [{'internalType': 'uint256', 'name': '', 'type': 'uint256'}], 'payable': False, 'stateMutability': 'view', 'type': 'function'}, {'constant': True, 'inputs': [{'internalType': 'uint256', 'name': 'tokenId', 'type': 'uint256'}], 'name': 'tokenURI', 'outputs': [{'internalType': 'string', 'name': '', 'type': 'string'}], 'payable': False, 'stateMutability': 'view', 'type': 'function'}, {'constant': True, 'inputs': [], 'name': 'totalSupply', 'outputs': [{'internalType': 'uint256', 'name': '', 'type': 'uint256'}], 'payable': False, 'stateMutability': 'view', 'type': 'function'}, {'constant': False, 'inputs': [{'internalType': 'address', 'name': 'from', 'type': 'address'}, {'internalType': 'address', 'name': 'to', 'type': 'address'}, {'internalType': 'uint256', 'name': 'tokenId', 'type': 'uint256'}], 'name': 'transferFrom', 'outputs': [], 'payable': False, 'stateMutability': 'nonpayable', 'type': 'function'}]\n"
     ]
    }
   ],
   "source": [
    "# creates contract ABI file from contract json\n",
    "\n",
    "with open(\"./BlueCoin.json\") as f:\n",
    "    info_json = json.load(f)\n",
    "abi = info_json[\"abi\"]\n",
    "\n",
    "print(abi)"
   ]
  },
  {
   "cell_type": "code",
   "execution_count": 20,
   "metadata": {},
   "outputs": [
    {
     "output_type": "execute_result",
     "data": {
      "text/plain": [
       "'0xC86C8d3E16370dd76e73DdeEf15767E343331816'"
      ]
     },
     "metadata": {},
     "execution_count": 20
    }
   ],
   "source": [
    "# returns token contract address\n",
    "\n",
    "contract = w3.eth.contract(contract_address, abi=abi)\n",
    "contract.address"
   ]
  },
  {
   "cell_type": "code",
   "execution_count": 25,
   "metadata": {},
   "outputs": [
    {
     "output_type": "execute_result",
     "data": {
      "text/plain": [
       "[<Function approve(address,uint256)>,\n",
       " <Function balanceOf(address)>,\n",
       " <Function baseURI()>,\n",
       " <Function colorToken(uint256)>,\n",
       " <Function getApproved(uint256)>,\n",
       " <Function isApprovedForAll(address,address)>,\n",
       " <Function name()>,\n",
       " <Function orderPrint(address,string,string,string,string,string)>,\n",
       " <Function ownerOf(uint256)>,\n",
       " <Function safeTransferFrom(address,address,uint256)>,\n",
       " <Function safeTransferFrom(address,address,uint256,bytes)>,\n",
       " <Function setApprovalForAll(address,bool)>,\n",
       " <Function supportsInterface(bytes4)>,\n",
       " <Function symbol()>,\n",
       " <Function tokenByIndex(uint256)>,\n",
       " <Function tokenOfOwnerByIndex(address,uint256)>,\n",
       " <Function tokenURI(uint256)>,\n",
       " <Function totalSupply()>,\n",
       " <Function transferFrom(address,address,uint256)>]"
      ]
     },
     "metadata": {},
     "execution_count": 25
    }
   ],
   "source": [
    "# all callable public contract functions\n",
    "\n",
    "contract.all_functions()"
   ]
  },
  {
   "cell_type": "code",
   "execution_count": 21,
   "metadata": {},
   "outputs": [
    {
     "output_type": "execute_result",
     "data": {
      "text/plain": [
       "'BlueToken'"
      ]
     },
     "metadata": {},
     "execution_count": 21
    }
   ],
   "source": [
    "# returns token name\n",
    "\n",
    "contract.functions.name().call()"
   ]
  },
  {
   "cell_type": "code",
   "execution_count": 22,
   "metadata": {},
   "outputs": [
    {
     "output_type": "execute_result",
     "data": {
      "text/plain": [
       "'BLUET'"
      ]
     },
     "metadata": {},
     "execution_count": 22
    }
   ],
   "source": [
    "# returns token symbol\n",
    "\n",
    "contract.functions.symbol().call()"
   ]
  },
  {
   "cell_type": "code",
   "execution_count": 23,
   "metadata": {},
   "outputs": [
    {
     "output_type": "execute_result",
     "data": {
      "text/plain": [
       "3"
      ]
     },
     "metadata": {},
     "execution_count": 23
    }
   ],
   "source": [
    "# returns total number of issued tokens per contract\n",
    "\n",
    "contract.functions.totalSupply().call()"
   ]
  },
  {
   "cell_type": "code",
   "execution_count": 24,
   "metadata": {},
   "outputs": [
    {
     "output_type": "execute_result",
     "data": {
      "text/plain": [
       "AttributeDict({'blockHash': HexBytes('0x945a3041f4ded837834a9538591d35a5305acec3b53da93dc192cc2c3b18927e'),\n",
       " 'blockNumber': 23807873,\n",
       " 'contractAddress': None,\n",
       " 'cumulativeGasUsed': 1703643,\n",
       " 'from': '0x33EfD6454eb5df2e970558BAce37979EB2B280f1',\n",
       " 'gasUsed': 284720,\n",
       " 'logs': [AttributeDict({'address': '0xC86C8d3E16370dd76e73DdeEf15767E343331816',\n",
       "   'blockHash': HexBytes('0x945a3041f4ded837834a9538591d35a5305acec3b53da93dc192cc2c3b18927e'),\n",
       "   'blockNumber': 23807873,\n",
       "   'data': '0x',\n",
       "   'logIndex': 19,\n",
       "   'removed': False,\n",
       "   'topics': [HexBytes('0xddf252ad1be2c89b69c2b068fc378daa952ba7f163c4a11628f55a4df523b3ef'),\n",
       "    HexBytes('0x0000000000000000000000000000000000000000000000000000000000000000'),\n",
       "    HexBytes('0x000000000000000000000000b1fe4c500c0e9dbeab0966d5962abe0bac342119'),\n",
       "    HexBytes('0x0000000000000000000000000000000000000000000000000000000000000002')],\n",
       "   'transactionHash': HexBytes('0xb0fa839a7baee565cee993360773dccb616e0c0ca856e95b54a9006a2f7c4c10'),\n",
       "   'transactionIndex': 4,\n",
       "   'transactionLogIndex': '0x0',\n",
       "   'type': 'mined'}),\n",
       "  AttributeDict({'address': '0xC86C8d3E16370dd76e73DdeEf15767E343331816',\n",
       "   'blockHash': HexBytes('0x945a3041f4ded837834a9538591d35a5305acec3b53da93dc192cc2c3b18927e'),\n",
       "   'blockNumber': 23807873,\n",
       "   'data': '0x0000000000000000000000000000000000000000000000000000000000000002',\n",
       "   'logIndex': 20,\n",
       "   'removed': False,\n",
       "   'topics': [HexBytes('0x61f2fb77d68d95670ee2cc541ace7136f4abda1d7af5b903e6ec8b9348cdc66a')],\n",
       "   'transactionHash': HexBytes('0xb0fa839a7baee565cee993360773dccb616e0c0ca856e95b54a9006a2f7c4c10'),\n",
       "   'transactionIndex': 4,\n",
       "   'transactionLogIndex': '0x1',\n",
       "   'type': 'mined'})],\n",
       " 'logsBloom': HexBytes('0x04000000000000000000000000000000000000000000000000000000000000000000000000010000000000000000000000000000000000000000000000000000080000000000000000000008000000000000000000000000000000000000000200000000020000008000000000000800000000000000000000000010000000000000000000000800000000000000000000000000000800000000000000000000020000000000000000000100000000000040000000000000000000000000000000000002000000000000000000000000000000000000000000000000000020000000000000000000000000000200000000000000008000000000000000000000'),\n",
       " 'status': 1,\n",
       " 'to': '0xC86C8d3E16370dd76e73DdeEf15767E343331816',\n",
       " 'transactionHash': HexBytes('0xb0fa839a7baee565cee993360773dccb616e0c0ca856e95b54a9006a2f7c4c10'),\n",
       " 'transactionIndex': 4})"
      ]
     },
     "metadata": {},
     "execution_count": 24
    }
   ],
   "source": [
    "# obtain transaction receipt based on trans hash\n",
    "\n",
    "txn_hash = '0xb0fa839a7baee565cee993360773dccb616e0c0ca856e95b54a9006a2f7c4c10'\n",
    "txn_receipt = w3.eth.waitForTransactionReceipt(txn_hash)\n",
    "\n",
    "txn_receipt"
   ]
  },
  {
   "cell_type": "code",
   "execution_count": 26,
   "metadata": {},
   "outputs": [
    {
     "output_type": "execute_result",
     "data": {
      "text/plain": [
       "['0xb1fE4c500C0E9dBEaB0966D5962Abe0BAC342119',\n",
       " 'USA',\n",
       " 'TX',\n",
       " 'Dallas',\n",
       " '1234 Humpty Dumpty St',\n",
       " '77045']"
      ]
     },
     "metadata": {},
     "execution_count": 26
    }
   ],
   "source": [
    "# returns order information per tokenId\n",
    "\n",
    "order_data = contract.functions.colorToken(3).call()\n",
    "order_data"
   ]
  },
  {
   "cell_type": "code",
   "execution_count": 27,
   "metadata": {},
   "outputs": [
    {
     "output_type": "execute_result",
     "data": {
      "text/plain": [
       "[AttributeDict({'args': AttributeDict({'tokenId': 1}),\n",
       "  'event': 'tokenOrder',\n",
       "  'logIndex': 2,\n",
       "  'transactionIndex': 1,\n",
       "  'transactionHash': HexBytes('0xb9d02f65b948416aa80b17f6028006345c824f0d9cf36b28b86474b1ab003af8'),\n",
       "  'address': '0xC86C8d3E16370dd76e73DdeEf15767E343331816',\n",
       "  'blockHash': HexBytes('0xf0701a15290ddd0e4d8eeba08c708c62078c05bea27aee11907540e2d365c32c'),\n",
       "  'blockNumber': 23806802}),\n",
       " AttributeDict({'args': AttributeDict({'tokenId': 2}),\n",
       "  'event': 'tokenOrder',\n",
       "  'logIndex': 20,\n",
       "  'transactionIndex': 4,\n",
       "  'transactionHash': HexBytes('0xb0fa839a7baee565cee993360773dccb616e0c0ca856e95b54a9006a2f7c4c10'),\n",
       "  'address': '0xC86C8d3E16370dd76e73DdeEf15767E343331816',\n",
       "  'blockHash': HexBytes('0x945a3041f4ded837834a9538591d35a5305acec3b53da93dc192cc2c3b18927e'),\n",
       "  'blockNumber': 23807873}),\n",
       " AttributeDict({'args': AttributeDict({'tokenId': 3}),\n",
       "  'event': 'tokenOrder',\n",
       "  'logIndex': 5,\n",
       "  'transactionIndex': 4,\n",
       "  'transactionHash': HexBytes('0x5326bd23ff863b23ec0efbac1e9602298c5ecffdce8012db291b25191ed01c13'),\n",
       "  'address': '0xC86C8d3E16370dd76e73DdeEf15767E343331816',\n",
       "  'blockHash': HexBytes('0x682ed5f1d4b2b967d37bef444cba8bceb080cfd19d133ea4f801e3b725ef0e9a'),\n",
       "  'blockNumber': 23808460})]"
      ]
     },
     "metadata": {},
     "execution_count": 27
    }
   ],
   "source": [
    "# returns all orders based on the defined filter (from the block 0x0)\n",
    "\n",
    "order_filter = contract.events.tokenOrder.createFilter(fromBlock=\"0x0\")\n",
    "\n",
    "all_orders = order_filter.get_all_entries()\n",
    "all_orders"
   ]
  },
  {
   "cell_type": "code",
   "execution_count": 16,
   "metadata": {},
   "outputs": [
    {
     "output_type": "execute_result",
     "data": {
      "text/plain": [
       "[]"
      ]
     },
     "metadata": {},
     "execution_count": 16
    }
   ],
   "source": [
    "# returns new orders since the last order\n",
    "\n",
    "new_orders = order_filter.get_new_entries()\n",
    "new_orders"
   ]
  },
  {
   "cell_type": "code",
   "execution_count": 17,
   "metadata": {},
   "outputs": [
    {
     "output_type": "execute_result",
     "data": {
      "text/plain": [
       "1"
      ]
     },
     "metadata": {},
     "execution_count": 17
    }
   ],
   "source": [
    "# returns tokenId based on set index (0 position is TokenId 1)\n",
    "\n",
    "token_id = contract.functions.tokenByIndex(0).call()\n",
    "token_id"
   ]
  },
  {
   "cell_type": "code",
   "execution_count": 18,
   "metadata": {},
   "outputs": [
    {
     "output_type": "execute_result",
     "data": {
      "text/plain": [
       "'0xb1fE4c500C0E9dBEaB0966D5962Abe0BAC342119'"
      ]
     },
     "metadata": {},
     "execution_count": 18
    }
   ],
   "source": [
    "# returns token_id owner\n",
    "\n",
    "token_id_address_owner = contract.functions.ownerOf(2).call()\n",
    "token_id_address_owner"
   ]
  },
  {
   "cell_type": "code",
   "execution_count": 19,
   "metadata": {},
   "outputs": [
    {
     "output_type": "execute_result",
     "data": {
      "text/plain": [
       "1"
      ]
     },
     "metadata": {},
     "execution_count": 19
    }
   ],
   "source": [
    "# returns tokenId by owner address and index\n",
    "\n",
    "token_id_owner_index = contract.functions.tokenOfOwnerByIndex(token_id_address_owner, 0).call()\n",
    "token_id_owner_index"
   ]
  },
  {
   "cell_type": "code",
   "execution_count": null,
   "metadata": {},
   "outputs": [],
   "source": []
  }
 ]
}