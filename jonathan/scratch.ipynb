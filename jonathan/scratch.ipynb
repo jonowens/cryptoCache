{
 "metadata": {
  "language_info": {
   "codemirror_mode": {
    "name": "ipython",
    "version": 3
   },
   "file_extension": ".py",
   "mimetype": "text/x-python",
   "name": "python",
   "nbconvert_exporter": "python",
   "pygments_lexer": "ipython3",
   "version": "3.8.5-final"
  },
  "orig_nbformat": 2,
  "kernelspec": {
   "name": "python3",
   "display_name": "Python 3",
   "language": "python"
  }
 },
 "nbformat": 4,
 "nbformat_minor": 2,
 "cells": [
  {
   "source": [
    "# Scratchpad for cryptoCache"
   ],
   "cell_type": "markdown",
   "metadata": {}
  },
  {
   "cell_type": "code",
   "execution_count": null,
   "metadata": {},
   "outputs": [],
   "source": [
    "# Get access token from 3d printing company\n",
    "import requests\n",
    "import pprint\n",
    "from dotenv import load_dotenv\n",
    "import os\n",
    "import json\n",
    "\n",
    "load_dotenv()\n",
    "\n",
    "url = 'https://api.shapeways.com/oauth2/token'\n",
    "client_id = os.getenv('CLIENT_ID')\n",
    "client_secret = os.getenv('CLIENT_SECRET')\n",
    " \n",
    "post_data = {\n",
    "    'grant_type': 'client_credentials'\n",
    "}\n",
    " \n",
    "token_response = requests.post(url=url, data=post_data, auth=(client_id,client_secret))\n",
    "access_token = token_response.json()['access_token']\n",
    "#print(\"Access token: \" + access_token)\n"
   ]
  },
  {
   "cell_type": "code",
   "execution_count": null,
   "metadata": {},
   "outputs": [],
   "source": [
    "# all data returned in dictionary with access token\n",
    "#pprint.pprint(token_response.json())\n"
   ]
  },
  {
   "cell_type": "code",
   "execution_count": null,
   "metadata": {},
   "outputs": [],
   "source": [
    "# Get materials available using access token and 3d printing company api\n",
    "#'Pink Processed Versatile Plastic' : 77\n",
    "#'Blue Processed Versatile Plastic' : 78\n",
    "import pprint\n",
    "\n",
    "headers = {\n",
    "   'Authorization': 'Bearer ' + access_token\n",
    "}\n",
    "api_url = 'https://api.shapeways.com/materials/v1'\n",
    "materials_response = requests.get(url=api_url +'?', headers=headers)\n",
    "print(materials_response.json()['materials'].keys())\n"
   ]
  },
  {
   "cell_type": "code",
   "execution_count": null,
   "metadata": {},
   "outputs": [],
   "source": [
    "# Get models from 3d printing company's api\n",
    "#'coin': 11499208\n",
    "api_url = 'https://api.shapeways.com/models/v1'\n",
    "response = requests.get(url=api_url +'?', headers=headers)\n",
    "#print(response.json())\n",
    "pprint.pprint(response.json())\n"
   ]
  },
  {
   "cell_type": "code",
   "execution_count": null,
   "metadata": {},
   "outputs": [],
   "source": [
    "# Find id where name is 'orange_coin'\n",
    "for model in response.json()['models']:\n",
    "    if model['title'] == 'orange_coin':\n",
    "        print(model['modelId'])\n"
   ]
  },
  {
   "cell_type": "code",
   "execution_count": null,
   "metadata": {},
   "outputs": [],
   "source": [
    "# Single line to find model id by name\n",
    "model_id = 0\n",
    "model_id = [model['modelId'] for model in response.json()['models'] if model['title'] == 'orange_coin']\n",
    "print(model_id)\n"
   ]
  },
  {
   "cell_type": "code",
   "execution_count": null,
   "metadata": {},
   "outputs": [],
   "source": [
    "# Request 3D printing organization API access token\n",
    "def request_api_access_token():\n",
    "  '''Fetches an API access token from 3D printing organization\n",
    "  Args:\n",
    "    None  **Needs .env file containing 'CLIENT_ID' and 'CLIENT_SECRET' ID\n",
    "  Returns:\n",
    "    access_token (str): Current access token\n",
    "  '''\n",
    "  # Load the .env file\n",
    "  load_dotenv()\n",
    "  \n",
    "  # Url to retrieve token data\n",
    "  url = 'https://api.shapeways.com/oauth2/token'\n",
    "  \n",
    "  # Get env data\n",
    "  client_id = os.getenv('CLIENT_ID')\n",
    "  client_secret = os.getenv('CLIENT_SECRET')\n",
    "  \n",
    "  # Building client data dictionary\n",
    "  post_data = {\n",
    "      'grant_type': 'client_credentials'\n",
    "  }\n",
    "  \n",
    "  # Post and request token data\n",
    "  token_response = requests.post(url=url, data=post_data, auth=(client_id,client_secret))\n",
    "\n",
    "  # Returns token id\n",
    "  return token_response.json()['access_token']\n"
   ]
  },
  {
   "cell_type": "code",
   "execution_count": null,
   "metadata": {},
   "outputs": [],
   "source": [
    "def get_model_id(access_token, model_name):\n",
    "  \"\"\"Gets 3D printing company model id using model name\n",
    "  Args:\n",
    "    access_token (str): Current access token for business account\n",
    "    model_name (str): Model name stored with 3D printing company\n",
    "  Returns:\n",
    "    model_id (str): Model ID matching the parameter model name passed\n",
    "  \"\"\"\n",
    "  # Url to retrieve model data\n",
    "  api_url = 'https://api.shapeways.com/models/v1'\n",
    "  \n",
    "  # Builds url header information\n",
    "  headers = {\n",
    "    'Authorization': 'Bearer ' + access_token\n",
    "  }\n",
    "\n",
    "  # Gets model data\n",
    "  models_response = requests.get(url=api_url +'?', headers=headers)\n",
    "  \n",
    "  # Get model id by model name\n",
    "  model_id = [model['modelId'] for model in models_response.json()['models'] if model['title'] == model_name]\n",
    "  \n",
    "  # Returns model id matching model name parameter from list\n",
    "  return model_id[0]\n"
   ]
  },
  {
   "cell_type": "code",
   "execution_count": null,
   "metadata": {},
   "outputs": [],
   "source": [
    "def get_material_id(access_token, material_name):\n",
    "  \"\"\"Gets 3D printing company Material ID using Material Name\n",
    "  Args:\n",
    "    access_token (str): Current access token for business account\n",
    "    material_name (str): Material name stored with 3D printing company\n",
    "  Returns:\n",
    "    material_id (str): Material ID matching the parameter material name passed\n",
    "  \"\"\"\n",
    "  # Url to retrieve material data\n",
    "  api_url = 'https://api.shapeways.com/materials/v1'\n",
    "  \n",
    "  # Builds url header information\n",
    "  headers = {\n",
    "    'Authorization': 'Bearer ' + access_token\n",
    "  }\n",
    "\n",
    "  # Gets material data\n",
    "  materials_response = requests.get(url=api_url +'?', headers=headers)\n",
    "\n",
    "  # Get a list of material keys\n",
    "  keys = materials_response.json()['materials'].keys()\n",
    "  \n",
    "  # Get material id by material name\n",
    "  # Loop through keys\n",
    "  for key in keys:\n",
    "\n",
    "    # Compare titles with each key\n",
    "    if materials_response.json()['materials'][key]['title'] == material_name:\n",
    "      \n",
    "      # Return material id when match found\n",
    "      return materials_response.json()['materials'][key]['materialId']\n"
   ]
  },
  {
   "cell_type": "code",
   "execution_count": null,
   "metadata": {},
   "outputs": [],
   "source": [
    "def submit_order(access_token, material_id, model_id, first_name, last_name, country_code, state_code, city, address1, address2, zipcode, phone_Number):\n",
    "  \"\"\"Submits a shipping order to 3D printing company API\n",
    "  Args:\n",
    "    access_token (str): \n",
    "    material_id (str): \n",
    "    model_id (str): \n",
    "    first_name (str): \n",
    "    last_name (str): \n",
    "    country_code (str): \n",
    "    state_code (str): \n",
    "    city (str): \n",
    "    address1 (str): \n",
    "    address2 (str): \n",
    "    zipcode (str): \n",
    "    phone_Number (str): \n",
    "  Returns:\n",
    "    order_response (Dict): A dictoinary containing a 'result' status and a 'reason' discription\n",
    "  \"\"\"\n",
    "\n",
    "  payment_verification_id =  os.getenv('PAYMENT_VERIFICATION_ID')\n",
    "  # Url to retrieve material data\n",
    "  api_url = 'https://api.shapeways.com/orders/v1'\n",
    "  \n",
    "  # Create item dictionary to purchase\n",
    "  items = [{\n",
    "    'materialId': material_id,\n",
    "    'modelId': model_id,\n",
    "    'quantity': 1\n",
    "  }]\n",
    "\n",
    "  # Create shipping order dictionary\n",
    "  order_data = {\n",
    "    'items': items,\n",
    "    'firstName' : first_name,\n",
    "    'lastName' : last_name,\n",
    "    # Only 2 digits\n",
    "    'country' : country_code,\n",
    "\n",
    "    'state' : state_code,\n",
    "    'city' : city,\n",
    "    'address1' : address1,\n",
    "    'address2' : address2,\n",
    "    'zipCode' : zipcode,\n",
    "    # Must be 10 digits for US numbers\n",
    "    'phoneNumber' : phone_Number,\n",
    "    'paymentVerificationId': payment_verification_id,\n",
    "    'paymentMethod': 'credit_card',\n",
    "    # 'Cheapest' or 'Fastest' are the only options\n",
    "    'shippingOption': 'Cheapest'\n",
    "  }\n",
    "\n",
    "  # Builds url header information\n",
    "  headers = {\n",
    "    'Authorization': 'Bearer ' + access_token\n",
    "  }\n",
    "  \n",
    "  # Post order and receive response\n",
    "  order_response = requests.post(url=api_url, headers=headers, data=json.dumps(order_data))\n",
    "  \n",
    "  # Return response\n",
    "  return order_response.json()\n"
   ]
  },
  {
   "cell_type": "code",
   "execution_count": null,
   "metadata": {},
   "outputs": [],
   "source": [
    "# Test function calls together\n",
    "model_name = 'coin'\n",
    "material = 'Blue Processed Versatile Plastic'\n",
    "token = request_api_access_token()\n",
    "material_id = get_material_id(token, material)\n",
    "model_id = get_model_id(token, model_name)\n",
    "response = submit_order(token, material_id, model_id, 'Jonathan', 'Owens', 'US', 'TX', 'Houston', '99999 S. Way St', ' ', '99999', '2819998888')\n",
    "print(\"token: \", token, \"\\nModel ID: \", model_id, \"\\nMaterial ID: \", material_id, \"\\nOrder Response: \", response)\n"
   ]
  },
  {
   "cell_type": "code",
   "execution_count": 52,
   "metadata": {},
   "outputs": [],
   "source": [
    "import os\n",
    "from web3 import Web3\n",
    "from dotenv import load_dotenv\n",
    "import json\n",
    "import codecs\n"
   ]
  },
  {
   "cell_type": "code",
   "execution_count": 53,
   "metadata": {},
   "outputs": [
    {
     "output_type": "execute_result",
     "data": {
      "text/plain": [
       "True"
      ]
     },
     "metadata": {},
     "execution_count": 53
    }
   ],
   "source": [
    "load_dotenv()\n"
   ]
  },
  {
   "cell_type": "code",
   "execution_count": 54,
   "metadata": {},
   "outputs": [],
   "source": [
    "project_key = os.getenv('INFURA_PROJECT_ID')\n"
   ]
  },
  {
   "cell_type": "code",
   "execution_count": 55,
   "metadata": {},
   "outputs": [],
   "source": [
    "w3 = Web3(Web3.HTTPProvider(f\"https://kovan.infura.io/v3/{project_key}\"))\n"
   ]
  },
  {
   "cell_type": "code",
   "execution_count": 56,
   "metadata": {},
   "outputs": [],
   "source": [
    "pink_contract_address = '0x3607844eb2eC711279B2F1831E1784Bc7423713f'\n",
    "blue_contract_address = '0xC86C8d3E16370dd76e73DdeEf15767E343331816'\n"
   ]
  },
  {
   "cell_type": "code",
   "execution_count": 57,
   "metadata": {},
   "outputs": [],
   "source": [
    "#w3.eth.get_block(1)\n"
   ]
  },
  {
   "cell_type": "code",
   "execution_count": 58,
   "metadata": {},
   "outputs": [],
   "source": [
    "with open(\"../static/blueContract.json\") as f:\n",
    "    info_json = json.load(f)\n",
    "abi = info_json[\"abi\"]\n"
   ]
  },
  {
   "cell_type": "code",
   "execution_count": null,
   "metadata": {},
   "outputs": [],
   "source": []
  },
  {
   "cell_type": "code",
   "execution_count": 59,
   "metadata": {},
   "outputs": [],
   "source": [
    "contract = w3.eth.contract(blue_contract_address, abi = abi)\n"
   ]
  },
  {
   "cell_type": "code",
   "execution_count": 60,
   "metadata": {},
   "outputs": [],
   "source": [
    "#contract.functions.colorToken(4).call()"
   ]
  },
  {
   "cell_type": "code",
   "execution_count": 75,
   "metadata": {},
   "outputs": [
    {
     "output_type": "execute_result",
     "data": {
      "text/plain": [
       "[AttributeDict({'args': AttributeDict({'tokenId': 1}),\n",
       "  'event': 'tokenOrder',\n",
       "  'logIndex': 2,\n",
       "  'transactionIndex': 1,\n",
       "  'transactionHash': HexBytes('0xb9d02f65b948416aa80b17f6028006345c824f0d9cf36b28b86474b1ab003af8'),\n",
       "  'address': '0xC86C8d3E16370dd76e73DdeEf15767E343331816',\n",
       "  'blockHash': HexBytes('0xf0701a15290ddd0e4d8eeba08c708c62078c05bea27aee11907540e2d365c32c'),\n",
       "  'blockNumber': 23806802}),\n",
       " AttributeDict({'args': AttributeDict({'tokenId': 2}),\n",
       "  'event': 'tokenOrder',\n",
       "  'logIndex': 20,\n",
       "  'transactionIndex': 4,\n",
       "  'transactionHash': HexBytes('0xb0fa839a7baee565cee993360773dccb616e0c0ca856e95b54a9006a2f7c4c10'),\n",
       "  'address': '0xC86C8d3E16370dd76e73DdeEf15767E343331816',\n",
       "  'blockHash': HexBytes('0x945a3041f4ded837834a9538591d35a5305acec3b53da93dc192cc2c3b18927e'),\n",
       "  'blockNumber': 23807873}),\n",
       " AttributeDict({'args': AttributeDict({'tokenId': 3}),\n",
       "  'event': 'tokenOrder',\n",
       "  'logIndex': 5,\n",
       "  'transactionIndex': 4,\n",
       "  'transactionHash': HexBytes('0x5326bd23ff863b23ec0efbac1e9602298c5ecffdce8012db291b25191ed01c13'),\n",
       "  'address': '0xC86C8d3E16370dd76e73DdeEf15767E343331816',\n",
       "  'blockHash': HexBytes('0x682ed5f1d4b2b967d37bef444cba8bceb080cfd19d133ea4f801e3b725ef0e9a'),\n",
       "  'blockNumber': 23808460}),\n",
       " AttributeDict({'args': AttributeDict({'tokenId': 4}),\n",
       "  'event': 'tokenOrder',\n",
       "  'logIndex': 2,\n",
       "  'transactionIndex': 1,\n",
       "  'transactionHash': HexBytes('0xd2e9552813f7d7e9b8ed68e810e58a439686743db1fdb03c72cb9bdb761b52e0'),\n",
       "  'address': '0xC86C8d3E16370dd76e73DdeEf15767E343331816',\n",
       "  'blockHash': HexBytes('0xd27ba4f472dc0564169993b4900fc830f46c1e460010bd777b6dae3ea4148345'),\n",
       "  'blockNumber': 23829166}),\n",
       " AttributeDict({'args': AttributeDict({'tokenId': 5}),\n",
       "  'event': 'tokenOrder',\n",
       "  'logIndex': 28,\n",
       "  'transactionIndex': 12,\n",
       "  'transactionHash': HexBytes('0xfe4c50558e18aa839459aaa229ac181371cbd71d8c43a32439640295bf57b9e0'),\n",
       "  'address': '0xC86C8d3E16370dd76e73DdeEf15767E343331816',\n",
       "  'blockHash': HexBytes('0x2eb27c7e74d036d6bf60acf72fc006f2f52c5fb5c134e21ee18cce3de76eb323'),\n",
       "  'blockNumber': 23829551}),\n",
       " AttributeDict({'args': AttributeDict({'tokenId': 6}),\n",
       "  'event': 'tokenOrder',\n",
       "  'logIndex': 21,\n",
       "  'transactionIndex': 8,\n",
       "  'transactionHash': HexBytes('0x85c6ff176bc0b090b3af7525de6e01d62010816ab5a7c5f90827d5444774f3e8'),\n",
       "  'address': '0xC86C8d3E16370dd76e73DdeEf15767E343331816',\n",
       "  'blockHash': HexBytes('0x6f509d68345577eadcbcf6351877f9952072f26ceed57967f6ac2554cea815b5'),\n",
       "  'blockNumber': 23829722})]"
      ]
     },
     "metadata": {},
     "execution_count": 75
    }
   ],
   "source": [
    "order_filter = contract.events.tokenOrder.createFilter(fromBlock='0x0')\n",
    "all_orders = order_filter.get_all_entries()\n",
    "all_orders\n"
   ]
  },
  {
   "cell_type": "code",
   "execution_count": 74,
   "metadata": {},
   "outputs": [
    {
     "output_type": "execute_result",
     "data": {
      "text/plain": [
       "<Function orderPrint(address,string,string,string,string,string) bound to ('0xA31b61b2aea2d93a3d424523a612e518F5aCA407', 'US', 'TX', 'Houston', '10303 Friars Hl', '77070')>"
      ]
     },
     "metadata": {},
     "execution_count": 74
    }
   ],
   "source": [
    "response = contract.functions.orderPrint('0xA31b61b2aea2d93a3d424523a612e518F5aCA407', 'US', 'TX', 'Houston', '10303 Friars Hl', '77070')\n",
    "response\n"
   ]
  },
  {
   "cell_type": "code",
   "execution_count": null,
   "metadata": {},
   "outputs": [],
   "source": []
  }
 ]
}